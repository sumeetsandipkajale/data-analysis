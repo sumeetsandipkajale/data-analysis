{
 "cells": [
  {
   "cell_type": "code",
   "execution_count": 102,
   "id": "38d9e21d",
   "metadata": {},
   "outputs": [],
   "source": [
    "import pandas as pd\n",
    "import numpy as np\n",
    "import warnings\n",
    "import matplotlib.pyplot as plt\n",
    "import seaborn as sns\n",
    "import plotly.express as px\n",
    "sns.set()\n",
    "warnings.filterwarnings('ignore')"
   ]
  },
  {
   "cell_type": "code",
   "execution_count": 2,
   "id": "583316e8",
   "metadata": {},
   "outputs": [
    {
     "data": {
      "text/html": [
       "<div>\n",
       "<style scoped>\n",
       "    .dataframe tbody tr th:only-of-type {\n",
       "        vertical-align: middle;\n",
       "    }\n",
       "\n",
       "    .dataframe tbody tr th {\n",
       "        vertical-align: top;\n",
       "    }\n",
       "\n",
       "    .dataframe thead th {\n",
       "        text-align: right;\n",
       "    }\n",
       "</style>\n",
       "<table border=\"1\" class=\"dataframe\">\n",
       "  <thead>\n",
       "    <tr style=\"text-align: right;\">\n",
       "      <th></th>\n",
       "      <th>id</th>\n",
       "      <th>Unnamed: 0.1</th>\n",
       "      <th>entity_type</th>\n",
       "      <th>entity_id</th>\n",
       "      <th>parent_id</th>\n",
       "      <th>name</th>\n",
       "      <th>normalized_name</th>\n",
       "      <th>permalink</th>\n",
       "      <th>category_code</th>\n",
       "      <th>status</th>\n",
       "      <th>...</th>\n",
       "      <th>first_milestone_at</th>\n",
       "      <th>last_milestone_at</th>\n",
       "      <th>milestones</th>\n",
       "      <th>relationships</th>\n",
       "      <th>created_by</th>\n",
       "      <th>created_at</th>\n",
       "      <th>updated_at</th>\n",
       "      <th>lat</th>\n",
       "      <th>lng</th>\n",
       "      <th>ROI</th>\n",
       "    </tr>\n",
       "  </thead>\n",
       "  <tbody>\n",
       "    <tr>\n",
       "      <th>0</th>\n",
       "      <td>c:1</td>\n",
       "      <td>0</td>\n",
       "      <td>Company</td>\n",
       "      <td>1</td>\n",
       "      <td>NaN</td>\n",
       "      <td>Wetpaint</td>\n",
       "      <td>wetpaint</td>\n",
       "      <td>/company/wetpaint</td>\n",
       "      <td>web</td>\n",
       "      <td>operating</td>\n",
       "      <td>...</td>\n",
       "      <td>2010-09-05</td>\n",
       "      <td>2013-09-18</td>\n",
       "      <td>5.0</td>\n",
       "      <td>17.0</td>\n",
       "      <td>initial-importer</td>\n",
       "      <td>2007-05-25 06:51:27</td>\n",
       "      <td>2013-04-13 03:29:00</td>\n",
       "      <td>47.606209</td>\n",
       "      <td>-122.332071</td>\n",
       "      <td>15.5</td>\n",
       "    </tr>\n",
       "    <tr>\n",
       "      <th>1</th>\n",
       "      <td>c:10</td>\n",
       "      <td>1</td>\n",
       "      <td>Company</td>\n",
       "      <td>10</td>\n",
       "      <td>NaN</td>\n",
       "      <td>Flektor</td>\n",
       "      <td>flektor</td>\n",
       "      <td>/company/flektor</td>\n",
       "      <td>games_video</td>\n",
       "      <td>acquired</td>\n",
       "      <td>...</td>\n",
       "      <td>NaN</td>\n",
       "      <td>NaN</td>\n",
       "      <td>NaN</td>\n",
       "      <td>6.0</td>\n",
       "      <td>initial-importer</td>\n",
       "      <td>2007-05-31 21:11:51</td>\n",
       "      <td>2008-05-23 23:23:14</td>\n",
       "      <td>34.021122</td>\n",
       "      <td>-118.396467</td>\n",
       "      <td>NaN</td>\n",
       "    </tr>\n",
       "    <tr>\n",
       "      <th>2</th>\n",
       "      <td>c:100</td>\n",
       "      <td>2</td>\n",
       "      <td>Company</td>\n",
       "      <td>100</td>\n",
       "      <td>NaN</td>\n",
       "      <td>There</td>\n",
       "      <td>there</td>\n",
       "      <td>/company/there</td>\n",
       "      <td>games_video</td>\n",
       "      <td>acquired</td>\n",
       "      <td>...</td>\n",
       "      <td>2003-02-01</td>\n",
       "      <td>2011-09-23</td>\n",
       "      <td>4.0</td>\n",
       "      <td>12.0</td>\n",
       "      <td>initial-importer</td>\n",
       "      <td>2007-08-06 23:52:45</td>\n",
       "      <td>2013-11-04 02:09:48</td>\n",
       "      <td>37.562992</td>\n",
       "      <td>-122.325525</td>\n",
       "      <td>NaN</td>\n",
       "    </tr>\n",
       "    <tr>\n",
       "      <th>3</th>\n",
       "      <td>c:10000</td>\n",
       "      <td>3</td>\n",
       "      <td>Company</td>\n",
       "      <td>10000</td>\n",
       "      <td>NaN</td>\n",
       "      <td>MYWEBBO</td>\n",
       "      <td>mywebbo</td>\n",
       "      <td>/company/mywebbo</td>\n",
       "      <td>network_hosting</td>\n",
       "      <td>operating</td>\n",
       "      <td>...</td>\n",
       "      <td>NaN</td>\n",
       "      <td>NaN</td>\n",
       "      <td>NaN</td>\n",
       "      <td>NaN</td>\n",
       "      <td>NaN</td>\n",
       "      <td>2008-08-24 16:51:57</td>\n",
       "      <td>2008-09-06 14:19:18</td>\n",
       "      <td>NaN</td>\n",
       "      <td>NaN</td>\n",
       "      <td>NaN</td>\n",
       "    </tr>\n",
       "    <tr>\n",
       "      <th>4</th>\n",
       "      <td>c:10001</td>\n",
       "      <td>4</td>\n",
       "      <td>Company</td>\n",
       "      <td>10001</td>\n",
       "      <td>NaN</td>\n",
       "      <td>THE Movie Streamer</td>\n",
       "      <td>the movie streamer</td>\n",
       "      <td>/company/the-movie-streamer</td>\n",
       "      <td>games_video</td>\n",
       "      <td>operating</td>\n",
       "      <td>...</td>\n",
       "      <td>NaN</td>\n",
       "      <td>NaN</td>\n",
       "      <td>NaN</td>\n",
       "      <td>NaN</td>\n",
       "      <td>NaN</td>\n",
       "      <td>2008-08-24 17:10:34</td>\n",
       "      <td>2008-09-06 14:19:18</td>\n",
       "      <td>NaN</td>\n",
       "      <td>NaN</td>\n",
       "      <td>NaN</td>\n",
       "    </tr>\n",
       "    <tr>\n",
       "      <th>...</th>\n",
       "      <td>...</td>\n",
       "      <td>...</td>\n",
       "      <td>...</td>\n",
       "      <td>...</td>\n",
       "      <td>...</td>\n",
       "      <td>...</td>\n",
       "      <td>...</td>\n",
       "      <td>...</td>\n",
       "      <td>...</td>\n",
       "      <td>...</td>\n",
       "      <td>...</td>\n",
       "      <td>...</td>\n",
       "      <td>...</td>\n",
       "      <td>...</td>\n",
       "      <td>...</td>\n",
       "      <td>...</td>\n",
       "      <td>...</td>\n",
       "      <td>...</td>\n",
       "      <td>...</td>\n",
       "      <td>...</td>\n",
       "      <td>...</td>\n",
       "    </tr>\n",
       "    <tr>\n",
       "      <th>196548</th>\n",
       "      <td>c:99940</td>\n",
       "      <td>196548</td>\n",
       "      <td>Company</td>\n",
       "      <td>99940</td>\n",
       "      <td>NaN</td>\n",
       "      <td>Webgility</td>\n",
       "      <td>webgility</td>\n",
       "      <td>/company/webgility</td>\n",
       "      <td>ecommerce</td>\n",
       "      <td>operating</td>\n",
       "      <td>...</td>\n",
       "      <td>2013-08-12</td>\n",
       "      <td>2013-08-12</td>\n",
       "      <td>2.0</td>\n",
       "      <td>5.0</td>\n",
       "      <td>NaN</td>\n",
       "      <td>2011-09-06 23:17:56</td>\n",
       "      <td>2013-08-13 00:39:13</td>\n",
       "      <td>37.774929</td>\n",
       "      <td>-122.419415</td>\n",
       "      <td>NaN</td>\n",
       "    </tr>\n",
       "    <tr>\n",
       "      <th>196549</th>\n",
       "      <td>c:9995</td>\n",
       "      <td>196549</td>\n",
       "      <td>Company</td>\n",
       "      <td>9995</td>\n",
       "      <td>NaN</td>\n",
       "      <td>FohBoh</td>\n",
       "      <td>fohboh</td>\n",
       "      <td>/company/fohboh</td>\n",
       "      <td>public_relations</td>\n",
       "      <td>operating</td>\n",
       "      <td>...</td>\n",
       "      <td>2013-05-01</td>\n",
       "      <td>2013-05-01</td>\n",
       "      <td>1.0</td>\n",
       "      <td>14.0</td>\n",
       "      <td>NaN</td>\n",
       "      <td>2008-08-24 15:46:26</td>\n",
       "      <td>2013-06-28 20:55:30</td>\n",
       "      <td>37.338208</td>\n",
       "      <td>-121.886329</td>\n",
       "      <td>NaN</td>\n",
       "    </tr>\n",
       "    <tr>\n",
       "      <th>196550</th>\n",
       "      <td>c:9996</td>\n",
       "      <td>196550</td>\n",
       "      <td>Company</td>\n",
       "      <td>9996</td>\n",
       "      <td>NaN</td>\n",
       "      <td>CSC</td>\n",
       "      <td>csc</td>\n",
       "      <td>/company/csc</td>\n",
       "      <td>consulting</td>\n",
       "      <td>operating</td>\n",
       "      <td>...</td>\n",
       "      <td>2012-01-01</td>\n",
       "      <td>2013-10-30</td>\n",
       "      <td>3.0</td>\n",
       "      <td>44.0</td>\n",
       "      <td>NaN</td>\n",
       "      <td>2008-08-24 15:46:58</td>\n",
       "      <td>2013-06-28 20:52:01</td>\n",
       "      <td>38.882334</td>\n",
       "      <td>-77.171091</td>\n",
       "      <td>NaN</td>\n",
       "    </tr>\n",
       "    <tr>\n",
       "      <th>196551</th>\n",
       "      <td>c:9997</td>\n",
       "      <td>196551</td>\n",
       "      <td>Company</td>\n",
       "      <td>9997</td>\n",
       "      <td>NaN</td>\n",
       "      <td>Top-candidate</td>\n",
       "      <td>top candidate</td>\n",
       "      <td>/company/top-candidate</td>\n",
       "      <td>search</td>\n",
       "      <td>operating</td>\n",
       "      <td>...</td>\n",
       "      <td>NaN</td>\n",
       "      <td>NaN</td>\n",
       "      <td>NaN</td>\n",
       "      <td>1.0</td>\n",
       "      <td>NaN</td>\n",
       "      <td>2008-08-24 16:00:22</td>\n",
       "      <td>2013-06-28 20:56:44</td>\n",
       "      <td>34.052234</td>\n",
       "      <td>-118.243685</td>\n",
       "      <td>NaN</td>\n",
       "    </tr>\n",
       "    <tr>\n",
       "      <th>196552</th>\n",
       "      <td>c:9998</td>\n",
       "      <td>196552</td>\n",
       "      <td>Company</td>\n",
       "      <td>9998</td>\n",
       "      <td>NaN</td>\n",
       "      <td>Closet Couture</td>\n",
       "      <td>closet couture</td>\n",
       "      <td>/company/closet-couture</td>\n",
       "      <td>ecommerce</td>\n",
       "      <td>operating</td>\n",
       "      <td>...</td>\n",
       "      <td>2006-07-01</td>\n",
       "      <td>2008-09-10</td>\n",
       "      <td>2.0</td>\n",
       "      <td>1.0</td>\n",
       "      <td>NaN</td>\n",
       "      <td>2008-08-24 16:46:13</td>\n",
       "      <td>2013-03-23 12:01:50</td>\n",
       "      <td>34.035633</td>\n",
       "      <td>-118.515590</td>\n",
       "      <td>NaN</td>\n",
       "    </tr>\n",
       "  </tbody>\n",
       "</table>\n",
       "<p>196553 rows × 44 columns</p>\n",
       "</div>"
      ],
      "text/plain": [
       "             id  Unnamed: 0.1 entity_type  entity_id  parent_id  \\\n",
       "0           c:1             0     Company          1        NaN   \n",
       "1          c:10             1     Company         10        NaN   \n",
       "2         c:100             2     Company        100        NaN   \n",
       "3       c:10000             3     Company      10000        NaN   \n",
       "4       c:10001             4     Company      10001        NaN   \n",
       "...         ...           ...         ...        ...        ...   \n",
       "196548  c:99940        196548     Company      99940        NaN   \n",
       "196549   c:9995        196549     Company       9995        NaN   \n",
       "196550   c:9996        196550     Company       9996        NaN   \n",
       "196551   c:9997        196551     Company       9997        NaN   \n",
       "196552   c:9998        196552     Company       9998        NaN   \n",
       "\n",
       "                      name     normalized_name                    permalink  \\\n",
       "0                 Wetpaint            wetpaint            /company/wetpaint   \n",
       "1                  Flektor             flektor             /company/flektor   \n",
       "2                    There               there               /company/there   \n",
       "3                  MYWEBBO             mywebbo             /company/mywebbo   \n",
       "4       THE Movie Streamer  the movie streamer  /company/the-movie-streamer   \n",
       "...                    ...                 ...                          ...   \n",
       "196548           Webgility           webgility           /company/webgility   \n",
       "196549              FohBoh              fohboh              /company/fohboh   \n",
       "196550                 CSC                 csc                 /company/csc   \n",
       "196551       Top-candidate       top candidate       /company/top-candidate   \n",
       "196552      Closet Couture      closet couture      /company/closet-couture   \n",
       "\n",
       "           category_code     status  ... first_milestone_at last_milestone_at  \\\n",
       "0                    web  operating  ...         2010-09-05        2013-09-18   \n",
       "1            games_video   acquired  ...                NaN               NaN   \n",
       "2            games_video   acquired  ...         2003-02-01        2011-09-23   \n",
       "3        network_hosting  operating  ...                NaN               NaN   \n",
       "4            games_video  operating  ...                NaN               NaN   \n",
       "...                  ...        ...  ...                ...               ...   \n",
       "196548         ecommerce  operating  ...         2013-08-12        2013-08-12   \n",
       "196549  public_relations  operating  ...         2013-05-01        2013-05-01   \n",
       "196550        consulting  operating  ...         2012-01-01        2013-10-30   \n",
       "196551            search  operating  ...                NaN               NaN   \n",
       "196552         ecommerce  operating  ...         2006-07-01        2008-09-10   \n",
       "\n",
       "       milestones relationships        created_by           created_at  \\\n",
       "0             5.0          17.0  initial-importer  2007-05-25 06:51:27   \n",
       "1             NaN           6.0  initial-importer  2007-05-31 21:11:51   \n",
       "2             4.0          12.0  initial-importer  2007-08-06 23:52:45   \n",
       "3             NaN           NaN               NaN  2008-08-24 16:51:57   \n",
       "4             NaN           NaN               NaN  2008-08-24 17:10:34   \n",
       "...           ...           ...               ...                  ...   \n",
       "196548        2.0           5.0               NaN  2011-09-06 23:17:56   \n",
       "196549        1.0          14.0               NaN  2008-08-24 15:46:26   \n",
       "196550        3.0          44.0               NaN  2008-08-24 15:46:58   \n",
       "196551        NaN           1.0               NaN  2008-08-24 16:00:22   \n",
       "196552        2.0           1.0               NaN  2008-08-24 16:46:13   \n",
       "\n",
       "                 updated_at        lat         lng   ROI  \n",
       "0       2013-04-13 03:29:00  47.606209 -122.332071  15.5  \n",
       "1       2008-05-23 23:23:14  34.021122 -118.396467   NaN  \n",
       "2       2013-11-04 02:09:48  37.562992 -122.325525   NaN  \n",
       "3       2008-09-06 14:19:18        NaN         NaN   NaN  \n",
       "4       2008-09-06 14:19:18        NaN         NaN   NaN  \n",
       "...                     ...        ...         ...   ...  \n",
       "196548  2013-08-13 00:39:13  37.774929 -122.419415   NaN  \n",
       "196549  2013-06-28 20:55:30  37.338208 -121.886329   NaN  \n",
       "196550  2013-06-28 20:52:01  38.882334  -77.171091   NaN  \n",
       "196551  2013-06-28 20:56:44  34.052234 -118.243685   NaN  \n",
       "196552  2013-03-23 12:01:50  34.035633 -118.515590   NaN  \n",
       "\n",
       "[196553 rows x 44 columns]"
      ]
     },
     "execution_count": 2,
     "metadata": {},
     "output_type": "execute_result"
    }
   ],
   "source": [
    "company = pd.read_csv(\"companies.csv\")\n",
    "company"
   ]
  },
  {
   "cell_type": "code",
   "execution_count": 3,
   "id": "83772d64",
   "metadata": {},
   "outputs": [
    {
     "data": {
      "text/plain": [
       "(196553, 44)"
      ]
     },
     "execution_count": 3,
     "metadata": {},
     "output_type": "execute_result"
    }
   ],
   "source": [
    "company.shape"
   ]
  },
  {
   "cell_type": "code",
   "execution_count": 5,
   "id": "342b649c",
   "metadata": {},
   "outputs": [
    {
     "name": "stdout",
     "output_type": "stream",
     "text": [
      "<class 'pandas.core.frame.DataFrame'>\n",
      "RangeIndex: 196553 entries, 0 to 196552\n",
      "Data columns (total 44 columns):\n",
      " #   Column               Non-Null Count   Dtype  \n",
      "---  ------               --------------   -----  \n",
      " 0   id                   196553 non-null  object \n",
      " 1   Unnamed: 0.1         196553 non-null  int64  \n",
      " 2   entity_type          196553 non-null  object \n",
      " 3   entity_id            196553 non-null  int64  \n",
      " 4   parent_id            0 non-null       float64\n",
      " 5   name                 196531 non-null  object \n",
      " 6   normalized_name      196527 non-null  object \n",
      " 7   permalink            196553 non-null  object \n",
      " 8   category_code        123186 non-null  object \n",
      " 9   status               196553 non-null  object \n",
      " 10  founded_at           91227 non-null   object \n",
      " 11  closed_at            2620 non-null    object \n",
      " 12  domain               126545 non-null  object \n",
      " 13  homepage_url         126545 non-null  object \n",
      " 14  twitter_username     80591 non-null   object \n",
      " 15  logo_url             110110 non-null  object \n",
      " 16  logo_width           110110 non-null  float64\n",
      " 17  logo_height          110110 non-null  float64\n",
      " 18  short_description    7131 non-null    object \n",
      " 19  description          92048 non-null   object \n",
      " 20  overview             126971 non-null  object \n",
      " 21  tag_list             81452 non-null   object \n",
      " 22  country_code         87990 non-null   object \n",
      " 23  state_code           50903 non-null   object \n",
      " 24  city                 83890 non-null   object \n",
      " 25  region               196553 non-null  object \n",
      " 26  first_investment_at  2583 non-null    object \n",
      " 27  last_investment_at   2583 non-null    object \n",
      " 28  investment_rounds    2591 non-null    float64\n",
      " 29  invested_companies   2591 non-null    float64\n",
      " 30  first_funding_at     31507 non-null   object \n",
      " 31  last_funding_at      31507 non-null   object \n",
      " 32  funding_rounds       31707 non-null   float64\n",
      " 33  funding_total_usd    27874 non-null   float64\n",
      " 34  first_milestone_at   91699 non-null   object \n",
      " 35  last_milestone_at    91699 non-null   object \n",
      " 36  milestones           91699 non-null   float64\n",
      " 37  relationships        129667 non-null  float64\n",
      " 38  created_by           155533 non-null  object \n",
      " 39  created_at           196553 non-null  object \n",
      " 40  updated_at           196553 non-null  object \n",
      " 41  lat                  83852 non-null   float64\n",
      " 42  lng                  83852 non-null   float64\n",
      " 43  ROI                  726 non-null     float64\n",
      "dtypes: float64(12), int64(2), object(30)\n",
      "memory usage: 66.0+ MB\n"
     ]
    }
   ],
   "source": [
    "company.info()"
   ]
  },
  {
   "cell_type": "code",
   "execution_count": 6,
   "id": "52222dfc",
   "metadata": {},
   "outputs": [],
   "source": [
    "df = company"
   ]
  },
  {
   "cell_type": "code",
   "execution_count": 8,
   "id": "79b078ec",
   "metadata": {},
   "outputs": [
    {
     "data": {
      "text/html": [
       "<div>\n",
       "<style scoped>\n",
       "    .dataframe tbody tr th:only-of-type {\n",
       "        vertical-align: middle;\n",
       "    }\n",
       "\n",
       "    .dataframe tbody tr th {\n",
       "        vertical-align: top;\n",
       "    }\n",
       "\n",
       "    .dataframe thead th {\n",
       "        text-align: right;\n",
       "    }\n",
       "</style>\n",
       "<table border=\"1\" class=\"dataframe\">\n",
       "  <thead>\n",
       "    <tr style=\"text-align: right;\">\n",
       "      <th></th>\n",
       "      <th>Unnamed: 0.1</th>\n",
       "      <th>entity_id</th>\n",
       "      <th>parent_id</th>\n",
       "      <th>logo_width</th>\n",
       "      <th>logo_height</th>\n",
       "      <th>investment_rounds</th>\n",
       "      <th>invested_companies</th>\n",
       "      <th>funding_rounds</th>\n",
       "      <th>funding_total_usd</th>\n",
       "      <th>milestones</th>\n",
       "      <th>relationships</th>\n",
       "      <th>lat</th>\n",
       "      <th>lng</th>\n",
       "      <th>ROI</th>\n",
       "    </tr>\n",
       "  </thead>\n",
       "  <tbody>\n",
       "    <tr>\n",
       "      <th>count</th>\n",
       "      <td>196553.000000</td>\n",
       "      <td>196553.000000</td>\n",
       "      <td>0.0</td>\n",
       "      <td>110110.000000</td>\n",
       "      <td>110110.000000</td>\n",
       "      <td>2591.000000</td>\n",
       "      <td>2591.000000</td>\n",
       "      <td>31707.000000</td>\n",
       "      <td>2.787400e+04</td>\n",
       "      <td>91699.000000</td>\n",
       "      <td>129667.000000</td>\n",
       "      <td>83852.000000</td>\n",
       "      <td>83852.000000</td>\n",
       "      <td>726.000000</td>\n",
       "    </tr>\n",
       "    <tr>\n",
       "      <th>mean</th>\n",
       "      <td>98276.000000</td>\n",
       "      <td>153006.227333</td>\n",
       "      <td>NaN</td>\n",
       "      <td>459.132685</td>\n",
       "      <td>222.728917</td>\n",
       "      <td>2.372057</td>\n",
       "      <td>2.204940</td>\n",
       "      <td>1.659760</td>\n",
       "      <td>1.481652e+07</td>\n",
       "      <td>1.199402</td>\n",
       "      <td>2.852067</td>\n",
       "      <td>37.564512</td>\n",
       "      <td>-52.123066</td>\n",
       "      <td>45.745037</td>\n",
       "    </tr>\n",
       "    <tr>\n",
       "      <th>std</th>\n",
       "      <td>56740.108067</td>\n",
       "      <td>90209.250941</td>\n",
       "      <td>NaN</td>\n",
       "      <td>594.982577</td>\n",
       "      <td>333.090722</td>\n",
       "      <td>12.173510</td>\n",
       "      <td>11.436955</td>\n",
       "      <td>1.201666</td>\n",
       "      <td>6.775937e+07</td>\n",
       "      <td>0.540099</td>\n",
       "      <td>9.100309</td>\n",
       "      <td>15.477102</td>\n",
       "      <td>70.049067</td>\n",
       "      <td>572.035638</td>\n",
       "    </tr>\n",
       "    <tr>\n",
       "      <th>min</th>\n",
       "      <td>0.000000</td>\n",
       "      <td>1.000000</td>\n",
       "      <td>NaN</td>\n",
       "      <td>1.000000</td>\n",
       "      <td>1.000000</td>\n",
       "      <td>1.000000</td>\n",
       "      <td>1.000000</td>\n",
       "      <td>1.000000</td>\n",
       "      <td>2.910000e+02</td>\n",
       "      <td>1.000000</td>\n",
       "      <td>1.000000</td>\n",
       "      <td>-50.942326</td>\n",
       "      <td>-159.497746</td>\n",
       "      <td>0.011111</td>\n",
       "    </tr>\n",
       "    <tr>\n",
       "      <th>25%</th>\n",
       "      <td>49138.000000</td>\n",
       "      <td>59850.000000</td>\n",
       "      <td>NaN</td>\n",
       "      <td>192.000000</td>\n",
       "      <td>70.000000</td>\n",
       "      <td>1.000000</td>\n",
       "      <td>1.000000</td>\n",
       "      <td>1.000000</td>\n",
       "      <td>5.000000e+05</td>\n",
       "      <td>1.000000</td>\n",
       "      <td>1.000000</td>\n",
       "      <td>34.052234</td>\n",
       "      <td>-111.940005</td>\n",
       "      <td>2.648879</td>\n",
       "    </tr>\n",
       "    <tr>\n",
       "      <th>50%</th>\n",
       "      <td>98276.000000</td>\n",
       "      <td>174539.000000</td>\n",
       "      <td>NaN</td>\n",
       "      <td>267.000000</td>\n",
       "      <td>105.000000</td>\n",
       "      <td>1.000000</td>\n",
       "      <td>1.000000</td>\n",
       "      <td>1.000000</td>\n",
       "      <td>2.564500e+06</td>\n",
       "      <td>1.000000</td>\n",
       "      <td>1.000000</td>\n",
       "      <td>39.768403</td>\n",
       "      <td>-77.036871</td>\n",
       "      <td>6.500497</td>\n",
       "    </tr>\n",
       "    <tr>\n",
       "      <th>75%</th>\n",
       "      <td>147414.000000</td>\n",
       "      <td>232655.000000</td>\n",
       "      <td>NaN</td>\n",
       "      <td>484.000000</td>\n",
       "      <td>232.000000</td>\n",
       "      <td>1.000000</td>\n",
       "      <td>1.000000</td>\n",
       "      <td>2.000000</td>\n",
       "      <td>1.100000e+07</td>\n",
       "      <td>1.000000</td>\n",
       "      <td>3.000000</td>\n",
       "      <td>45.421530</td>\n",
       "      <td>-0.127758</td>\n",
       "      <td>13.549900</td>\n",
       "    </tr>\n",
       "    <tr>\n",
       "      <th>max</th>\n",
       "      <td>196552.000000</td>\n",
       "      <td>286215.000000</td>\n",
       "      <td>NaN</td>\n",
       "      <td>18200.000000</td>\n",
       "      <td>9600.000000</td>\n",
       "      <td>478.000000</td>\n",
       "      <td>459.000000</td>\n",
       "      <td>15.000000</td>\n",
       "      <td>5.700000e+09</td>\n",
       "      <td>9.000000</td>\n",
       "      <td>1189.000000</td>\n",
       "      <td>77.553604</td>\n",
       "      <td>176.212549</td>\n",
       "      <td>13333.333333</td>\n",
       "    </tr>\n",
       "  </tbody>\n",
       "</table>\n",
       "</div>"
      ],
      "text/plain": [
       "        Unnamed: 0.1      entity_id  parent_id     logo_width    logo_height  \\\n",
       "count  196553.000000  196553.000000        0.0  110110.000000  110110.000000   \n",
       "mean    98276.000000  153006.227333        NaN     459.132685     222.728917   \n",
       "std     56740.108067   90209.250941        NaN     594.982577     333.090722   \n",
       "min         0.000000       1.000000        NaN       1.000000       1.000000   \n",
       "25%     49138.000000   59850.000000        NaN     192.000000      70.000000   \n",
       "50%     98276.000000  174539.000000        NaN     267.000000     105.000000   \n",
       "75%    147414.000000  232655.000000        NaN     484.000000     232.000000   \n",
       "max    196552.000000  286215.000000        NaN   18200.000000    9600.000000   \n",
       "\n",
       "       investment_rounds  invested_companies  funding_rounds  \\\n",
       "count        2591.000000         2591.000000    31707.000000   \n",
       "mean            2.372057            2.204940        1.659760   \n",
       "std            12.173510           11.436955        1.201666   \n",
       "min             1.000000            1.000000        1.000000   \n",
       "25%             1.000000            1.000000        1.000000   \n",
       "50%             1.000000            1.000000        1.000000   \n",
       "75%             1.000000            1.000000        2.000000   \n",
       "max           478.000000          459.000000       15.000000   \n",
       "\n",
       "       funding_total_usd    milestones  relationships           lat  \\\n",
       "count       2.787400e+04  91699.000000  129667.000000  83852.000000   \n",
       "mean        1.481652e+07      1.199402       2.852067     37.564512   \n",
       "std         6.775937e+07      0.540099       9.100309     15.477102   \n",
       "min         2.910000e+02      1.000000       1.000000    -50.942326   \n",
       "25%         5.000000e+05      1.000000       1.000000     34.052234   \n",
       "50%         2.564500e+06      1.000000       1.000000     39.768403   \n",
       "75%         1.100000e+07      1.000000       3.000000     45.421530   \n",
       "max         5.700000e+09      9.000000    1189.000000     77.553604   \n",
       "\n",
       "                lng           ROI  \n",
       "count  83852.000000    726.000000  \n",
       "mean     -52.123066     45.745037  \n",
       "std       70.049067    572.035638  \n",
       "min     -159.497746      0.011111  \n",
       "25%     -111.940005      2.648879  \n",
       "50%      -77.036871      6.500497  \n",
       "75%       -0.127758     13.549900  \n",
       "max      176.212549  13333.333333  "
      ]
     },
     "execution_count": 8,
     "metadata": {},
     "output_type": "execute_result"
    }
   ],
   "source": [
    "df.describe()"
   ]
  },
  {
   "cell_type": "code",
   "execution_count": 9,
   "id": "e80c886d",
   "metadata": {},
   "outputs": [],
   "source": [
    "# dropping unnecessary columns\n",
    "\n",
    "company.drop(['region','city','state_code','domain', 'homepage_url', 'twitter_username', 'logo_url', 'logo_width', 'logo_height', 'short_description', 'description', 'overview','tag_list', 'name', 'normalized_name', 'permalink','domain', 'homepage_url', 'twitter_username', 'logo_url', 'logo_width', 'logo_height', 'short_description', 'description', 'overview','tag_list', 'name', 'normalized_name', 'permalink', 'invested_companies'], axis=1,inplace=True)\n"
   ]
  },
  {
   "cell_type": "code",
   "execution_count": 10,
   "id": "878317ef",
   "metadata": {},
   "outputs": [
    {
     "data": {
      "text/plain": [
       "0"
      ]
     },
     "execution_count": 10,
     "metadata": {},
     "output_type": "execute_result"
    }
   ],
   "source": [
    "company.duplicated().sum()\n",
    "# checking duplicates"
   ]
  },
  {
   "cell_type": "code",
   "execution_count": 12,
   "id": "e54665ae",
   "metadata": {},
   "outputs": [
    {
     "ename": "KeyError",
     "evalue": "\"['id', 'Unnamed: 0.1', 'entity_type', 'entity_id', 'parent_id', 'created_by', 'created_at', 'updated_at'] not found in axis\"",
     "output_type": "error",
     "traceback": [
      "\u001b[1;31m---------------------------------------------------------------------------\u001b[0m",
      "\u001b[1;31mKeyError\u001b[0m                                  Traceback (most recent call last)",
      "Cell \u001b[1;32mIn[12], line 1\u001b[0m\n\u001b[1;32m----> 1\u001b[0m \u001b[43mcompany\u001b[49m\u001b[38;5;241;43m.\u001b[39;49m\u001b[43mdrop\u001b[49m\u001b[43m(\u001b[49m\u001b[43m[\u001b[49m\u001b[38;5;124;43m'\u001b[39;49m\u001b[38;5;124;43mid\u001b[39;49m\u001b[38;5;124;43m'\u001b[39;49m\u001b[43m,\u001b[49m\u001b[43m \u001b[49m\u001b[38;5;124;43m'\u001b[39;49m\u001b[38;5;124;43mUnnamed: 0.1\u001b[39;49m\u001b[38;5;124;43m'\u001b[39;49m\u001b[43m,\u001b[49m\u001b[43m \u001b[49m\u001b[38;5;124;43m'\u001b[39;49m\u001b[38;5;124;43mentity_type\u001b[39;49m\u001b[38;5;124;43m'\u001b[39;49m\u001b[43m,\u001b[49m\u001b[43m \u001b[49m\u001b[38;5;124;43m'\u001b[39;49m\u001b[38;5;124;43mentity_id\u001b[39;49m\u001b[38;5;124;43m'\u001b[39;49m\u001b[43m,\u001b[49m\u001b[43m \u001b[49m\u001b[38;5;124;43m'\u001b[39;49m\u001b[38;5;124;43mparent_id\u001b[39;49m\u001b[38;5;124;43m'\u001b[39;49m\u001b[43m,\u001b[49m\u001b[43m \u001b[49m\u001b[38;5;124;43m'\u001b[39;49m\u001b[38;5;124;43mcreated_by\u001b[39;49m\u001b[38;5;124;43m'\u001b[39;49m\u001b[43m,\u001b[49m\u001b[43m \u001b[49m\u001b[38;5;124;43m'\u001b[39;49m\u001b[38;5;124;43mcreated_at\u001b[39;49m\u001b[38;5;124;43m'\u001b[39;49m\u001b[43m,\u001b[49m\u001b[43m \u001b[49m\u001b[38;5;124;43m'\u001b[39;49m\u001b[38;5;124;43mupdated_at\u001b[39;49m\u001b[38;5;124;43m'\u001b[39;49m\u001b[43m]\u001b[49m\u001b[43m,\u001b[49m\u001b[43m \u001b[49m\u001b[43maxis\u001b[49m\u001b[38;5;241;43m=\u001b[39;49m\u001b[38;5;241;43m1\u001b[39;49m\u001b[43m,\u001b[49m\u001b[43minplace\u001b[49m\u001b[38;5;241;43m=\u001b[39;49m\u001b[38;5;28;43;01mTrue\u001b[39;49;00m\u001b[43m)\u001b[49m\n\u001b[0;32m      2\u001b[0m \u001b[38;5;66;03m# dropping columns\u001b[39;00m\n",
      "File \u001b[1;32m~\\AppData\\Local\\Programs\\Python\\Python39\\lib\\site-packages\\pandas\\util\\_decorators.py:331\u001b[0m, in \u001b[0;36mdeprecate_nonkeyword_arguments.<locals>.decorate.<locals>.wrapper\u001b[1;34m(*args, **kwargs)\u001b[0m\n\u001b[0;32m    325\u001b[0m \u001b[38;5;28;01mif\u001b[39;00m \u001b[38;5;28mlen\u001b[39m(args) \u001b[38;5;241m>\u001b[39m num_allow_args:\n\u001b[0;32m    326\u001b[0m     warnings\u001b[38;5;241m.\u001b[39mwarn(\n\u001b[0;32m    327\u001b[0m         msg\u001b[38;5;241m.\u001b[39mformat(arguments\u001b[38;5;241m=\u001b[39m_format_argument_list(allow_args)),\n\u001b[0;32m    328\u001b[0m         \u001b[38;5;167;01mFutureWarning\u001b[39;00m,\n\u001b[0;32m    329\u001b[0m         stacklevel\u001b[38;5;241m=\u001b[39mfind_stack_level(),\n\u001b[0;32m    330\u001b[0m     )\n\u001b[1;32m--> 331\u001b[0m \u001b[38;5;28;01mreturn\u001b[39;00m func(\u001b[38;5;241m*\u001b[39margs, \u001b[38;5;241m*\u001b[39m\u001b[38;5;241m*\u001b[39mkwargs)\n",
      "File \u001b[1;32m~\\AppData\\Local\\Programs\\Python\\Python39\\lib\\site-packages\\pandas\\core\\frame.py:5396\u001b[0m, in \u001b[0;36mDataFrame.drop\u001b[1;34m(self, labels, axis, index, columns, level, inplace, errors)\u001b[0m\n\u001b[0;32m   5248\u001b[0m \u001b[38;5;129m@deprecate_nonkeyword_arguments\u001b[39m(version\u001b[38;5;241m=\u001b[39m\u001b[38;5;28;01mNone\u001b[39;00m, allowed_args\u001b[38;5;241m=\u001b[39m[\u001b[38;5;124m\"\u001b[39m\u001b[38;5;124mself\u001b[39m\u001b[38;5;124m\"\u001b[39m, \u001b[38;5;124m\"\u001b[39m\u001b[38;5;124mlabels\u001b[39m\u001b[38;5;124m\"\u001b[39m])\n\u001b[0;32m   5249\u001b[0m \u001b[38;5;28;01mdef\u001b[39;00m \u001b[38;5;21mdrop\u001b[39m(  \u001b[38;5;66;03m# type: ignore[override]\u001b[39;00m\n\u001b[0;32m   5250\u001b[0m     \u001b[38;5;28mself\u001b[39m,\n\u001b[1;32m   (...)\u001b[0m\n\u001b[0;32m   5257\u001b[0m     errors: IgnoreRaise \u001b[38;5;241m=\u001b[39m \u001b[38;5;124m\"\u001b[39m\u001b[38;5;124mraise\u001b[39m\u001b[38;5;124m\"\u001b[39m,\n\u001b[0;32m   5258\u001b[0m ) \u001b[38;5;241m-\u001b[39m\u001b[38;5;241m>\u001b[39m DataFrame \u001b[38;5;241m|\u001b[39m \u001b[38;5;28;01mNone\u001b[39;00m:\n\u001b[0;32m   5259\u001b[0m \u001b[38;5;250m    \u001b[39m\u001b[38;5;124;03m\"\"\"\u001b[39;00m\n\u001b[0;32m   5260\u001b[0m \u001b[38;5;124;03m    Drop specified labels from rows or columns.\u001b[39;00m\n\u001b[0;32m   5261\u001b[0m \n\u001b[1;32m   (...)\u001b[0m\n\u001b[0;32m   5394\u001b[0m \u001b[38;5;124;03m            weight  1.0     0.8\u001b[39;00m\n\u001b[0;32m   5395\u001b[0m \u001b[38;5;124;03m    \"\"\"\u001b[39;00m\n\u001b[1;32m-> 5396\u001b[0m     \u001b[38;5;28;01mreturn\u001b[39;00m \u001b[38;5;28;43msuper\u001b[39;49m\u001b[43m(\u001b[49m\u001b[43m)\u001b[49m\u001b[38;5;241;43m.\u001b[39;49m\u001b[43mdrop\u001b[49m\u001b[43m(\u001b[49m\n\u001b[0;32m   5397\u001b[0m \u001b[43m        \u001b[49m\u001b[43mlabels\u001b[49m\u001b[38;5;241;43m=\u001b[39;49m\u001b[43mlabels\u001b[49m\u001b[43m,\u001b[49m\n\u001b[0;32m   5398\u001b[0m \u001b[43m        \u001b[49m\u001b[43maxis\u001b[49m\u001b[38;5;241;43m=\u001b[39;49m\u001b[43maxis\u001b[49m\u001b[43m,\u001b[49m\n\u001b[0;32m   5399\u001b[0m \u001b[43m        \u001b[49m\u001b[43mindex\u001b[49m\u001b[38;5;241;43m=\u001b[39;49m\u001b[43mindex\u001b[49m\u001b[43m,\u001b[49m\n\u001b[0;32m   5400\u001b[0m \u001b[43m        \u001b[49m\u001b[43mcolumns\u001b[49m\u001b[38;5;241;43m=\u001b[39;49m\u001b[43mcolumns\u001b[49m\u001b[43m,\u001b[49m\n\u001b[0;32m   5401\u001b[0m \u001b[43m        \u001b[49m\u001b[43mlevel\u001b[49m\u001b[38;5;241;43m=\u001b[39;49m\u001b[43mlevel\u001b[49m\u001b[43m,\u001b[49m\n\u001b[0;32m   5402\u001b[0m \u001b[43m        \u001b[49m\u001b[43minplace\u001b[49m\u001b[38;5;241;43m=\u001b[39;49m\u001b[43minplace\u001b[49m\u001b[43m,\u001b[49m\n\u001b[0;32m   5403\u001b[0m \u001b[43m        \u001b[49m\u001b[43merrors\u001b[49m\u001b[38;5;241;43m=\u001b[39;49m\u001b[43merrors\u001b[49m\u001b[43m,\u001b[49m\n\u001b[0;32m   5404\u001b[0m \u001b[43m    \u001b[49m\u001b[43m)\u001b[49m\n",
      "File \u001b[1;32m~\\AppData\\Local\\Programs\\Python\\Python39\\lib\\site-packages\\pandas\\util\\_decorators.py:331\u001b[0m, in \u001b[0;36mdeprecate_nonkeyword_arguments.<locals>.decorate.<locals>.wrapper\u001b[1;34m(*args, **kwargs)\u001b[0m\n\u001b[0;32m    325\u001b[0m \u001b[38;5;28;01mif\u001b[39;00m \u001b[38;5;28mlen\u001b[39m(args) \u001b[38;5;241m>\u001b[39m num_allow_args:\n\u001b[0;32m    326\u001b[0m     warnings\u001b[38;5;241m.\u001b[39mwarn(\n\u001b[0;32m    327\u001b[0m         msg\u001b[38;5;241m.\u001b[39mformat(arguments\u001b[38;5;241m=\u001b[39m_format_argument_list(allow_args)),\n\u001b[0;32m    328\u001b[0m         \u001b[38;5;167;01mFutureWarning\u001b[39;00m,\n\u001b[0;32m    329\u001b[0m         stacklevel\u001b[38;5;241m=\u001b[39mfind_stack_level(),\n\u001b[0;32m    330\u001b[0m     )\n\u001b[1;32m--> 331\u001b[0m \u001b[38;5;28;01mreturn\u001b[39;00m func(\u001b[38;5;241m*\u001b[39margs, \u001b[38;5;241m*\u001b[39m\u001b[38;5;241m*\u001b[39mkwargs)\n",
      "File \u001b[1;32m~\\AppData\\Local\\Programs\\Python\\Python39\\lib\\site-packages\\pandas\\core\\generic.py:4505\u001b[0m, in \u001b[0;36mNDFrame.drop\u001b[1;34m(self, labels, axis, index, columns, level, inplace, errors)\u001b[0m\n\u001b[0;32m   4503\u001b[0m \u001b[38;5;28;01mfor\u001b[39;00m axis, labels \u001b[38;5;129;01min\u001b[39;00m axes\u001b[38;5;241m.\u001b[39mitems():\n\u001b[0;32m   4504\u001b[0m     \u001b[38;5;28;01mif\u001b[39;00m labels \u001b[38;5;129;01mis\u001b[39;00m \u001b[38;5;129;01mnot\u001b[39;00m \u001b[38;5;28;01mNone\u001b[39;00m:\n\u001b[1;32m-> 4505\u001b[0m         obj \u001b[38;5;241m=\u001b[39m \u001b[43mobj\u001b[49m\u001b[38;5;241;43m.\u001b[39;49m\u001b[43m_drop_axis\u001b[49m\u001b[43m(\u001b[49m\u001b[43mlabels\u001b[49m\u001b[43m,\u001b[49m\u001b[43m \u001b[49m\u001b[43maxis\u001b[49m\u001b[43m,\u001b[49m\u001b[43m \u001b[49m\u001b[43mlevel\u001b[49m\u001b[38;5;241;43m=\u001b[39;49m\u001b[43mlevel\u001b[49m\u001b[43m,\u001b[49m\u001b[43m \u001b[49m\u001b[43merrors\u001b[49m\u001b[38;5;241;43m=\u001b[39;49m\u001b[43merrors\u001b[49m\u001b[43m)\u001b[49m\n\u001b[0;32m   4507\u001b[0m \u001b[38;5;28;01mif\u001b[39;00m inplace:\n\u001b[0;32m   4508\u001b[0m     \u001b[38;5;28mself\u001b[39m\u001b[38;5;241m.\u001b[39m_update_inplace(obj)\n",
      "File \u001b[1;32m~\\AppData\\Local\\Programs\\Python\\Python39\\lib\\site-packages\\pandas\\core\\generic.py:4546\u001b[0m, in \u001b[0;36mNDFrame._drop_axis\u001b[1;34m(self, labels, axis, level, errors, only_slice)\u001b[0m\n\u001b[0;32m   4544\u001b[0m         new_axis \u001b[38;5;241m=\u001b[39m axis\u001b[38;5;241m.\u001b[39mdrop(labels, level\u001b[38;5;241m=\u001b[39mlevel, errors\u001b[38;5;241m=\u001b[39merrors)\n\u001b[0;32m   4545\u001b[0m     \u001b[38;5;28;01melse\u001b[39;00m:\n\u001b[1;32m-> 4546\u001b[0m         new_axis \u001b[38;5;241m=\u001b[39m \u001b[43maxis\u001b[49m\u001b[38;5;241;43m.\u001b[39;49m\u001b[43mdrop\u001b[49m\u001b[43m(\u001b[49m\u001b[43mlabels\u001b[49m\u001b[43m,\u001b[49m\u001b[43m \u001b[49m\u001b[43merrors\u001b[49m\u001b[38;5;241;43m=\u001b[39;49m\u001b[43merrors\u001b[49m\u001b[43m)\u001b[49m\n\u001b[0;32m   4547\u001b[0m     indexer \u001b[38;5;241m=\u001b[39m axis\u001b[38;5;241m.\u001b[39mget_indexer(new_axis)\n\u001b[0;32m   4549\u001b[0m \u001b[38;5;66;03m# Case for non-unique axis\u001b[39;00m\n\u001b[0;32m   4550\u001b[0m \u001b[38;5;28;01melse\u001b[39;00m:\n",
      "File \u001b[1;32m~\\AppData\\Local\\Programs\\Python\\Python39\\lib\\site-packages\\pandas\\core\\indexes\\base.py:6977\u001b[0m, in \u001b[0;36mIndex.drop\u001b[1;34m(self, labels, errors)\u001b[0m\n\u001b[0;32m   6975\u001b[0m \u001b[38;5;28;01mif\u001b[39;00m mask\u001b[38;5;241m.\u001b[39many():\n\u001b[0;32m   6976\u001b[0m     \u001b[38;5;28;01mif\u001b[39;00m errors \u001b[38;5;241m!=\u001b[39m \u001b[38;5;124m\"\u001b[39m\u001b[38;5;124mignore\u001b[39m\u001b[38;5;124m\"\u001b[39m:\n\u001b[1;32m-> 6977\u001b[0m         \u001b[38;5;28;01mraise\u001b[39;00m \u001b[38;5;167;01mKeyError\u001b[39;00m(\u001b[38;5;124mf\u001b[39m\u001b[38;5;124m\"\u001b[39m\u001b[38;5;132;01m{\u001b[39;00m\u001b[38;5;28mlist\u001b[39m(labels[mask])\u001b[38;5;132;01m}\u001b[39;00m\u001b[38;5;124m not found in axis\u001b[39m\u001b[38;5;124m\"\u001b[39m)\n\u001b[0;32m   6978\u001b[0m     indexer \u001b[38;5;241m=\u001b[39m indexer[\u001b[38;5;241m~\u001b[39mmask]\n\u001b[0;32m   6979\u001b[0m \u001b[38;5;28;01mreturn\u001b[39;00m \u001b[38;5;28mself\u001b[39m\u001b[38;5;241m.\u001b[39mdelete(indexer)\n",
      "\u001b[1;31mKeyError\u001b[0m: \"['id', 'Unnamed: 0.1', 'entity_type', 'entity_id', 'parent_id', 'created_by', 'created_at', 'updated_at'] not found in axis\""
     ]
    }
   ],
   "source": [
    "company.drop(['id', 'Unnamed: 0.1', 'entity_type', 'entity_id', 'parent_id', 'created_by', 'created_at', 'updated_at'], axis=1,inplace=True)\n",
    "# dropping columns"
   ]
  },
  {
   "cell_type": "code",
   "execution_count": 13,
   "id": "2c4859fd",
   "metadata": {},
   "outputs": [
    {
     "data": {
      "text/plain": [
       "category_code           73367\n",
       "status                      0\n",
       "founded_at             105326\n",
       "closed_at              193933\n",
       "country_code           108563\n",
       "first_investment_at    193970\n",
       "last_investment_at     193970\n",
       "investment_rounds      193962\n",
       "first_funding_at       165046\n",
       "last_funding_at        165046\n",
       "funding_rounds         164846\n",
       "funding_total_usd      168679\n",
       "first_milestone_at     104854\n",
       "last_milestone_at      104854\n",
       "milestones             104854\n",
       "relationships           66886\n",
       "lat                    112701\n",
       "lng                    112701\n",
       "ROI                    195827\n",
       "dtype: int64"
      ]
     },
     "execution_count": 13,
     "metadata": {},
     "output_type": "execute_result"
    }
   ],
   "source": [
    "# checking null values\n",
    "df.isnull().sum()"
   ]
  },
  {
   "cell_type": "code",
   "execution_count": 14,
   "id": "042f3399",
   "metadata": {},
   "outputs": [
    {
     "data": {
      "text/plain": [
       "category_code          37.326828\n",
       "status                  0.000000\n",
       "founded_at             53.586564\n",
       "closed_at              98.667026\n",
       "country_code           55.233448\n",
       "first_investment_at    98.685851\n",
       "last_investment_at     98.685851\n",
       "investment_rounds      98.681780\n",
       "first_funding_at       83.970227\n",
       "last_funding_at        83.970227\n",
       "funding_rounds         83.868473\n",
       "funding_total_usd      85.818583\n",
       "first_milestone_at     53.346426\n",
       "last_milestone_at      53.346426\n",
       "milestones             53.346426\n",
       "relationships          34.029498\n",
       "lat                    57.338733\n",
       "lng                    57.338733\n",
       "ROI                    99.630634\n",
       "dtype: float64"
      ]
     },
     "execution_count": 14,
     "metadata": {},
     "output_type": "execute_result"
    }
   ],
   "source": [
    "# checking percent of null values\n",
    "\n",
    "(df.isnull().sum()/len(df))*100"
   ]
  },
  {
   "cell_type": "code",
   "execution_count": 15,
   "id": "c6d11ab5",
   "metadata": {},
   "outputs": [],
   "source": [
    "# dropping by percent\n",
    "\n",
    "company.drop(['investment_rounds','first_investment_at','last_investment_at','ROI'], axis=1,inplace=True)\n"
   ]
  },
  {
   "cell_type": "code",
   "execution_count": 16,
   "id": "d13a800f",
   "metadata": {},
   "outputs": [
    {
     "data": {
      "text/plain": [
       "category_code          73367\n",
       "status                     0\n",
       "founded_at            105326\n",
       "closed_at             193933\n",
       "country_code          108563\n",
       "first_funding_at      165046\n",
       "last_funding_at       165046\n",
       "funding_rounds        164846\n",
       "funding_total_usd     168679\n",
       "first_milestone_at    104854\n",
       "last_milestone_at     104854\n",
       "milestones            104854\n",
       "relationships          66886\n",
       "lat                   112701\n",
       "lng                   112701\n",
       "dtype: int64"
      ]
     },
     "execution_count": 16,
     "metadata": {},
     "output_type": "execute_result"
    }
   ],
   "source": [
    "company.isna().sum()\n"
   ]
  },
  {
   "cell_type": "code",
   "execution_count": 17,
   "id": "142acd44",
   "metadata": {},
   "outputs": [
    {
     "data": {
      "text/plain": [
       "Index(['category_code', 'status', 'founded_at', 'closed_at', 'country_code',\n",
       "       'first_funding_at', 'last_funding_at', 'funding_rounds',\n",
       "       'funding_total_usd', 'first_milestone_at', 'last_milestone_at',\n",
       "       'milestones', 'relationships', 'lat', 'lng'],\n",
       "      dtype='object')"
      ]
     },
     "execution_count": 17,
     "metadata": {},
     "output_type": "execute_result"
    }
   ],
   "source": [
    "df.columns"
   ]
  },
  {
   "cell_type": "code",
   "execution_count": 18,
   "id": "679c1d24",
   "metadata": {},
   "outputs": [],
   "source": [
    "df.drop_duplicates(inplace = True)"
   ]
  },
  {
   "cell_type": "code",
   "execution_count": 21,
   "id": "cfc12247",
   "metadata": {},
   "outputs": [
    {
     "data": {
      "text/plain": [
       "False"
      ]
     },
     "execution_count": 21,
     "metadata": {},
     "output_type": "execute_result"
    }
   ],
   "source": [
    "df.duplicated().any()"
   ]
  },
  {
   "cell_type": "code",
   "execution_count": 22,
   "id": "2f292c35",
   "metadata": {},
   "outputs": [
    {
     "data": {
      "text/plain": [
       "count    2.786200e+04\n",
       "mean     1.482285e+07\n",
       "std      6.777327e+07\n",
       "min      2.910000e+02\n",
       "25%      5.000000e+05\n",
       "50%      2.569860e+06\n",
       "75%      1.100000e+07\n",
       "max      5.700000e+09\n",
       "Name: funding_total_usd, dtype: float64"
      ]
     },
     "execution_count": 22,
     "metadata": {},
     "output_type": "execute_result"
    },
    {
     "data": {
      "image/png": "[encoded data removed]",
      "text/plain": [
       "<Figure size 640x480 with 1 Axes>"
      ]
     },
     "metadata": {},
     "output_type": "display_data"
    }
   ],
   "source": [
    "\n",
    "sns.boxplot(x=company[\"funding_total_usd\"])\n",
    "company.funding_total_usd.describe()"
   ]
  },
  {
   "cell_type": "code",
   "execution_count": 23,
   "id": "4c0c93a1",
   "metadata": {},
   "outputs": [
    {
     "data": {
      "text/plain": [
       "<Axes: xlabel='funding_rounds'>"
      ]
     },
     "execution_count": 23,
     "metadata": {},
     "output_type": "execute_result"
    },
    {
     "data": {
      "image/png": "[encoded data removed]",
      "text/plain": [
       "<Figure size 640x480 with 1 Axes>"
      ]
     },
     "metadata": {},
     "output_type": "display_data"
    }
   ],
   "source": [
    "sns.boxplot(x=company[\"funding_rounds\"])"
   ]
  },
  {
   "cell_type": "code",
   "execution_count": 24,
   "id": "82a67a06",
   "metadata": {},
   "outputs": [
    {
     "data": {
      "image/png": "[encoded data removed]",
      "text/plain": [
       "<Figure size 640x480 with 1 Axes>"
      ]
     },
     "metadata": {},
     "output_type": "display_data"
    }
   ],
   "source": [
    "sns.distplot(company['funding_total_usd']) \n",
    "plt.show()"
   ]
  },
  {
   "cell_type": "code",
   "execution_count": 25,
   "id": "dee36590",
   "metadata": {},
   "outputs": [
    {
     "name": "stdout",
     "output_type": "stream",
     "text": [
      "IQR of funding_total_usd is: 10500000.0\n",
      "\n",
      "IQR of funding_rounds is: 1.0\n"
     ]
    }
   ],
   "source": [
    "# For funding_total_usd\n",
    "\n",
    "Q1_FTU = company.funding_total_usd.quantile(0.25)\n",
    "Q3_FTU = company.funding_total_usd.quantile(0.75)\n",
    "Q1_FTU, Q3_FTU\n",
    "IQR_FTU = Q3_FTU - Q1_FTU\n",
    "print(f\"IQR of funding_total_usd is: {IQR_FTU}\\n\")\n",
    "\n",
    "# For funding_rounds\n",
    "\n",
    "Q1_FR = company.funding_rounds.quantile(0.25)\n",
    "Q3_FR = company.funding_rounds.quantile(0.75)\n",
    "Q1_FR, Q3_FR\n",
    "IQR_FR = Q3_FR - Q1_FR\n",
    "print(f\"IQR of funding_rounds is: {IQR_FR}\")"
   ]
  },
  {
   "cell_type": "code",
   "execution_count": 26,
   "id": "45861194",
   "metadata": {},
   "outputs": [
    {
     "name": "stdout",
     "output_type": "stream",
     "text": [
      "funding_total_usd\n",
      "lower limit is: -15250000.0\n",
      "upper limit is: 26750000.0\n",
      "\n",
      "funding_total_usd\n",
      "lower limit is: -0.5\n",
      "upper limit is: 3.5\n"
     ]
    }
   ],
   "source": [
    "# Finding upper and lower limit\n",
    "\n",
    "# For funding_total_usd\n",
    "lower_limit_FTU = Q1_FTU - 1.5*IQR_FTU\n",
    "upper_limit_FTU = Q3_FTU + 1.5*IQR_FTU\n",
    "print(\"funding_total_usd\")\n",
    "print(f\"lower limit is: {lower_limit_FTU}\")\n",
    "print(f\"upper limit is: {upper_limit_FTU}\\n\")\n",
    "\n",
    "\n",
    "# For funding_rounds\n",
    "lower_limit_FR = Q1_FR - 1.5*IQR_FR\n",
    "upper_limit_FR = Q3_FR + 1.5*IQR_FR\n",
    "print(\"funding_total_usd\")\n",
    "print(f\"lower limit is: {lower_limit_FR}\")\n",
    "print(f\"upper limit is: {upper_limit_FR}\")"
   ]
  },
  {
   "cell_type": "code",
   "execution_count": 28,
   "id": "91460a8c",
   "metadata": {},
   "outputs": [
    {
     "name": "stdout",
     "output_type": "stream",
     "text": [
      "(3468, 15)\n",
      "(2369, 15)\n"
     ]
    }
   ],
   "source": [
    "# finding outliers\n",
    "# For funding_total_usd\n",
    "funding_total_usd_outliers=company[(company.funding_total_usd<lower_limit_FTU)|(company.funding_total_usd>upper_limit_FTU)]\n",
    "print(funding_total_usd_outliers.shape)\n",
    "\n",
    "# For funding_rounds\n",
    "funding_rounds_outliers=company[(company.funding_rounds<lower_limit_FR)|(company.funding_rounds>upper_limit_FR)]\n",
    "print(funding_rounds_outliers.shape)"
   ]
  },
  {
   "cell_type": "code",
   "execution_count": 29,
   "id": "9d6fbed2",
   "metadata": {},
   "outputs": [
    {
     "data": {
      "text/plain": [
       "(104015, 15)"
      ]
     },
     "execution_count": 29,
     "metadata": {},
     "output_type": "execute_result"
    }
   ],
   "source": [
    "# droping outliers\n",
    "\n",
    "# For funding_total_usd\n",
    "company.drop(company[(company.funding_total_usd<lower_limit_FTU)|(company.funding_total_usd>upper_limit_FTU)].index,inplace=True)\n",
    "\n",
    "\n",
    "# For funding_rounds\n",
    "company.drop(company[(company.funding_rounds<lower_limit_FR)|(company.funding_rounds>upper_limit_FR)].index,inplace=True)\n",
    "company.shape"
   ]
  },
  {
   "cell_type": "code",
   "execution_count": 30,
   "id": "e47451b7",
   "metadata": {},
   "outputs": [
    {
     "data": {
      "text/plain": [
       "<Axes: xlabel='funding_total_usd'>"
      ]
     },
     "execution_count": 30,
     "metadata": {},
     "output_type": "execute_result"
    },
    {
     "data": {
      "image/png": "[encoded data removed]",
      "text/plain": [
       "<Figure size 640x480 with 1 Axes>"
      ]
     },
     "metadata": {},
     "output_type": "display_data"
    }
   ],
   "source": [
    "#'funding_total_usd' \n",
    "#check outliers for funding_total_usd column\n",
    "sns.boxplot(x=company[\"funding_total_usd\"])"
   ]
  },
  {
   "cell_type": "code",
   "execution_count": 31,
   "id": "49ef2d24",
   "metadata": {},
   "outputs": [
    {
     "data": {
      "text/plain": [
       "<Axes: xlabel='funding_rounds'>"
      ]
     },
     "execution_count": 31,
     "metadata": {},
     "output_type": "execute_result"
    },
    {
     "data": {
      "image/png": "[encoded data removed]",
      "text/plain": [
       "<Figure size 640x480 with 1 Axes>"
      ]
     },
     "metadata": {},
     "output_type": "display_data"
    }
   ],
   "source": [
    "\n",
    "# 'funding_rounds'\n",
    "#check outliers for funding_rounds column\n",
    "sns.boxplot(x=company[\"funding_rounds\"])"
   ]
  },
  {
   "cell_type": "code",
   "execution_count": 32,
   "id": "993996d6",
   "metadata": {},
   "outputs": [
    {
     "data": {
      "text/plain": [
       "<Axes: xlabel='relationships'>"
      ]
     },
     "execution_count": 32,
     "metadata": {},
     "output_type": "execute_result"
    },
    {
     "data": {
      "image/png": "[encoded data removed]",
      "text/plain": [
       "<Figure size 640x480 with 1 Axes>"
      ]
     },
     "metadata": {},
     "output_type": "display_data"
    }
   ],
   "source": [
    "sns.boxplot(x=company[\"relationships\"])"
   ]
  },
  {
   "cell_type": "code",
   "execution_count": 33,
   "id": "9427feba",
   "metadata": {},
   "outputs": [
    {
     "data": {
      "image/png": "[encoded data removed]",
      "text/plain": [
       "<Figure size 640x480 with 1 Axes>"
      ]
     },
     "metadata": {},
     "output_type": "display_data"
    }
   ],
   "source": [
    "sns.distplot(company['relationships']) \n",
    "plt.show()"
   ]
  },
  {
   "cell_type": "code",
   "execution_count": 34,
   "id": "f546981a",
   "metadata": {},
   "outputs": [
    {
     "name": "stdout",
     "output_type": "stream",
     "text": [
      "IQR of funding_total_usd is: 3.0\n",
      "\n"
     ]
    }
   ],
   "source": [
    "Q1_relation=company.relationships.quantile(0.25)\n",
    "Q3_relation=company.relationships.quantile(0.75)\n",
    "IQR_relation=Q3_relation-Q1_relation\n",
    "print(f\"IQR of funding_total_usd is: {IQR_relation}\\n\")"
   ]
  },
  {
   "cell_type": "code",
   "execution_count": 35,
   "id": "62f5dc67",
   "metadata": {},
   "outputs": [
    {
     "name": "stdout",
     "output_type": "stream",
     "text": [
      "lower limit is: -3.5\n",
      "upper limit is: 8.5\n",
      "\n"
     ]
    }
   ],
   "source": [
    "# Lower limit and upper limit of the outlier for relationships\n",
    "\n",
    "lower_limit_relation = Q1_relation - 1.5*IQR_relation\n",
    "upper_limit_relation = Q3_relation + 1.5*IQR_relation\n",
    "\n",
    "print(f\"lower limit is: {lower_limit_relation}\")\n",
    "print(f\"upper limit is: {upper_limit_relation}\\n\")"
   ]
  },
  {
   "cell_type": "code",
   "execution_count": 36,
   "id": "98b9cb91",
   "metadata": {},
   "outputs": [
    {
     "name": "stdout",
     "output_type": "stream",
     "text": [
      "(104015, 15)\n",
      "(99413, 15)\n"
     ]
    }
   ],
   "source": [
    "# check outliers for relationships column\n",
    "\n",
    "company.relationships_outliers=company[(company.relationships<lower_limit_relation)&(company.relationships>upper_limit_relation)]\n",
    "print(company.shape)\n",
    "#Drop the outliers\n",
    "company.drop(company[(company.relationships<lower_limit_relation)|(company.relationships>upper_limit_relation)].index,inplace=True)\n",
    "print(company.shape)"
   ]
  },
  {
   "cell_type": "code",
   "execution_count": 37,
   "id": "912eef3e",
   "metadata": {},
   "outputs": [
    {
     "data": {
      "text/plain": [
       "1.0    25397\n",
       "2.0    16643\n",
       "3.0    10140\n",
       "4.0     5810\n",
       "5.0     3430\n",
       "6.0     2159\n",
       "7.0     1392\n",
       "8.0     1043\n",
       "Name: relationships, dtype: int64"
      ]
     },
     "execution_count": 37,
     "metadata": {},
     "output_type": "execute_result"
    },
    {
     "data": {
      "image/png": "[encoded data removed]",
      "text/plain": [
       "<Figure size 640x480 with 1 Axes>"
      ]
     },
     "metadata": {},
     "output_type": "display_data"
    }
   ],
   "source": [
    "sns.boxplot(x=company[\"relationships\"])\n",
    "company.relationships.value_counts()"
   ]
  },
  {
   "cell_type": "code",
   "execution_count": 38,
   "id": "5dabf2db",
   "metadata": {},
   "outputs": [
    {
     "name": "stdout",
     "output_type": "stream",
     "text": [
      "<class 'pandas.core.frame.DataFrame'>\n",
      "Int64Index: 99413 entries, 1 to 196552\n",
      "Data columns (total 15 columns):\n",
      " #   Column              Non-Null Count  Dtype  \n",
      "---  ------              --------------  -----  \n",
      " 0   category_code       88813 non-null  object \n",
      " 1   status              99413 non-null  object \n",
      " 2   founded_at          75157 non-null  object \n",
      " 3   closed_at           2384 non-null   object \n",
      " 4   country_code        76080 non-null  object \n",
      " 5   first_funding_at    24845 non-null  object \n",
      " 6   last_funding_at     24845 non-null  object \n",
      " 7   funding_rounds      25036 non-null  float64\n",
      " 8   funding_total_usd   21406 non-null  float64\n",
      " 9   first_milestone_at  48450 non-null  object \n",
      " 10  last_milestone_at   48450 non-null  object \n",
      " 11  milestones          48450 non-null  float64\n",
      " 12  relationships       66014 non-null  float64\n",
      " 13  lat                 72752 non-null  float64\n",
      " 14  lng                 72752 non-null  float64\n",
      "dtypes: float64(6), object(9)\n",
      "memory usage: 12.1+ MB\n"
     ]
    }
   ],
   "source": [
    "company.info()"
   ]
  },
  {
   "cell_type": "code",
   "execution_count": 39,
   "id": "6f44b7bf",
   "metadata": {},
   "outputs": [],
   "source": [
    " extracting the year data from first_funding_at,last_funding_at,first_milestone_at,last_milestone_at"
   ]
  },
  {
   "cell_type": "code",
   "execution_count": 40,
   "id": "e627dc73",
   "metadata": {},
   "outputs": [],
   "source": [
    "# \"founded_at\"\n",
    "\n",
    "company[\"founded_at\"] = pd.to_datetime(company[\"founded_at\"], format='%Y-%m-%d').dt.year\n",
    "\n",
    "# \"closed_at\"\n",
    "\n",
    "company[\"closed_at\"] = pd.to_datetime(company[\"closed_at\"], format='%Y-%m-%d').dt.year\n",
    "\n",
    "# \"first_funding_at\"\n",
    "\n",
    "company[\"first_funding_at\"] = pd.to_datetime(company[\"first_funding_at\"], format='%Y-%m-%d').dt.year\n",
    "\n",
    "# \"last_funding_at\"\n",
    "\n",
    "company[\"last_funding_at\"] = pd.to_datetime(company[\"last_funding_at\"], format='%Y-%m-%d').dt.year\n",
    "\n",
    "# \"first_milestone_at\"\n",
    "\n",
    "company[\"first_milestone_at\"] = pd.to_datetime(company[\"first_milestone_at\"], format='%Y-%m-%d').dt.year\n",
    "\n",
    "#\"last_milestone_at\"\n",
    "\n",
    "company[\"last_milestone_at\"] = pd.to_datetime(company[\"last_milestone_at\"], format='%Y-%m-%d').dt.year"
   ]
  },
  {
   "cell_type": "code",
   "execution_count": 41,
   "id": "642d278c",
   "metadata": {},
   "outputs": [
    {
     "data": {
      "text/plain": [
       "category_code          object\n",
       "status                 object\n",
       "founded_at            float64\n",
       "closed_at             float64\n",
       "country_code           object\n",
       "first_funding_at      float64\n",
       "last_funding_at       float64\n",
       "funding_rounds        float64\n",
       "funding_total_usd     float64\n",
       "first_milestone_at    float64\n",
       "last_milestone_at     float64\n",
       "milestones            float64\n",
       "relationships         float64\n",
       "lat                   float64\n",
       "lng                   float64\n",
       "dtype: object"
      ]
     },
     "execution_count": 41,
     "metadata": {},
     "output_type": "execute_result"
    }
   ],
   "source": [
    "company.dtypes"
   ]
  },
  {
   "cell_type": "code",
   "execution_count": 42,
   "id": "13ebc0a1",
   "metadata": {},
   "outputs": [
    {
     "data": {
      "text/plain": [
       "array(['games_video', 'network_hosting', 'advertising', 'cleantech', nan,\n",
       "       'enterprise', 'other', 'consulting', 'software', 'web', 'mobile',\n",
       "       'finance', 'education', 'medical', 'manufacturing', 'biotech',\n",
       "       'ecommerce', 'public_relations', 'hardware', 'search', 'analytics',\n",
       "       'news', 'government', 'security', 'photo_video', 'travel',\n",
       "       'health', 'semiconductor', 'social', 'legal', 'transportation',\n",
       "       'hospitality', 'sports', 'nonprofit', 'fashion', 'messaging',\n",
       "       'music', 'design', 'real_estate', 'local', 'automotive', 'pets',\n",
       "       'nanotech'], dtype=object)"
      ]
     },
     "execution_count": 42,
     "metadata": {},
     "output_type": "execute_result"
    }
   ],
   "source": [
    "# applying imputaion\n",
    "\n",
    "company[\"category_code\"].unique()"
   ]
  },
  {
   "cell_type": "code",
   "execution_count": 43,
   "id": "5c3ac59b",
   "metadata": {},
   "outputs": [
    {
     "data": {
      "text/plain": [
       "10600"
      ]
     },
     "execution_count": 43,
     "metadata": {},
     "output_type": "execute_result"
    }
   ],
   "source": [
    "\n",
    "company[\"category_code\"].isnull().sum()"
   ]
  },
  {
   "cell_type": "code",
   "execution_count": 44,
   "id": "180775a2",
   "metadata": {},
   "outputs": [
    {
     "data": {
      "text/plain": [
       "10.662589399776689"
      ]
     },
     "execution_count": 44,
     "metadata": {},
     "output_type": "execute_result"
    }
   ],
   "source": [
    "((company[\"category_code\"].isnull().sum())/(company[\"category_code\"].size))*100"
   ]
  },
  {
   "cell_type": "code",
   "execution_count": 45,
   "id": "aec00b62",
   "metadata": {},
   "outputs": [
    {
     "data": {
      "text/plain": [
       "'software'"
      ]
     },
     "execution_count": 45,
     "metadata": {},
     "output_type": "execute_result"
    }
   ],
   "source": [
    "mode_value=company[\"category_code\"].mode()\n",
    "mode_value[0]"
   ]
  },
  {
   "cell_type": "code",
   "execution_count": 46,
   "id": "9a503cf3",
   "metadata": {},
   "outputs": [
    {
     "data": {
      "text/plain": [
       "0"
      ]
     },
     "execution_count": 46,
     "metadata": {},
     "output_type": "execute_result"
    }
   ],
   "source": [
    "company[\"category_code\"].fillna(mode_value[0],inplace=True)\n",
    "company[\"category_code\"].isna().sum() "
   ]
  },
  {
   "cell_type": "code",
   "execution_count": 47,
   "id": "5437d873",
   "metadata": {},
   "outputs": [
    {
     "data": {
      "text/plain": [
       "array(['acquired', 'operating', 'closed', 'ipo'], dtype=object)"
      ]
     },
     "execution_count": 47,
     "metadata": {},
     "output_type": "execute_result"
    }
   ],
   "source": [
    "# Target variable\n",
    "company[\"status\"].unique()"
   ]
  },
  {
   "cell_type": "code",
   "execution_count": 48,
   "id": "8c385e48",
   "metadata": {},
   "outputs": [
    {
     "data": {
      "text/plain": [
       "array(['games_video', 'network_hosting', 'advertising', 'cleantech',\n",
       "       'software', 'enterprise', 'other', 'consulting', 'web', 'mobile',\n",
       "       'finance', 'education', 'medical', 'manufacturing', 'biotech',\n",
       "       'ecommerce', 'public_relations', 'hardware', 'search', 'analytics',\n",
       "       'news', 'government', 'security', 'photo_video', 'travel',\n",
       "       'health', 'semiconductor', 'social', 'legal', 'transportation',\n",
       "       'hospitality', 'sports', 'nonprofit', 'fashion', 'messaging',\n",
       "       'music', 'design', 'real_estate', 'local', 'automotive', 'pets',\n",
       "       'nanotech'], dtype=object)"
      ]
     },
     "execution_count": 48,
     "metadata": {},
     "output_type": "execute_result"
    }
   ],
   "source": [
    "## \"category_code\"\n",
    "\n",
    "company[\"category_code\"].unique()"
   ]
  },
  {
   "cell_type": "code",
   "execution_count": 49,
   "id": "e882f833",
   "metadata": {},
   "outputs": [
    {
     "data": {
      "text/plain": [
       "software            24852\n",
       "web                 11362\n",
       "other                8220\n",
       "ecommerce            6896\n",
       "mobile               5064\n",
       "advertising          4707\n",
       "games_video          4399\n",
       "consulting           3993\n",
       "biotech              3342\n",
       "enterprise           3224\n",
       "public_relations     2387\n",
       "hardware             2355\n",
       "education            1896\n",
       "network_hosting      1891\n",
       "search               1570\n",
       "cleantech            1411\n",
       "health               1000\n",
       "social                962\n",
       "finance               937\n",
       "security              905\n",
       "analytics             803\n",
       "legal                 680\n",
       "medical               665\n",
       "travel                548\n",
       "manufacturing         533\n",
       "semiconductor         509\n",
       "news                  477\n",
       "hospitality           471\n",
       "fashion               453\n",
       "local                 439\n",
       "real_estate           366\n",
       "photo_video           325\n",
       "music                 290\n",
       "sports                281\n",
       "messaging             247\n",
       "transportation        244\n",
       "design                221\n",
       "automotive            186\n",
       "nonprofit             163\n",
       "pets                   53\n",
       "nanotech               51\n",
       "government             35\n",
       "Name: category_code, dtype: int64"
      ]
     },
     "execution_count": 49,
     "metadata": {},
     "output_type": "execute_result"
    }
   ],
   "source": [
    "company.category_code.value_counts()"
   ]
  },
  {
   "cell_type": "code",
   "execution_count": 50,
   "id": "e9d2a5c6",
   "metadata": {},
   "outputs": [],
   "source": [
    "\n",
    "#category_encoding\n",
    "category_others_index = company.category_code.value_counts()[15:].index\n",
    "company['category_code'] = company['category_code'].replace(to_replace=category_others_index,value='other')"
   ]
  },
  {
   "cell_type": "code",
   "execution_count": 51,
   "id": "73405346",
   "metadata": {},
   "outputs": [
    {
     "name": "stdout",
     "output_type": "stream",
     "text": [
      "Unique no of category_code :  15\n"
     ]
    },
    {
     "data": {
      "text/plain": [
       "software            24852\n",
       "other               21475\n",
       "web                 11362\n",
       "ecommerce            6896\n",
       "mobile               5064\n",
       "advertising          4707\n",
       "games_video          4399\n",
       "consulting           3993\n",
       "biotech              3342\n",
       "enterprise           3224\n",
       "public_relations     2387\n",
       "hardware             2355\n",
       "education            1896\n",
       "network_hosting      1891\n",
       "search               1570\n",
       "Name: category_code, dtype: int64"
      ]
     },
     "execution_count": 51,
     "metadata": {},
     "output_type": "execute_result"
    }
   ],
   "source": [
    "# Let's check if we've more than 15 columns\n",
    "print('Unique no of category_code : ',company['category_code'].nunique())\n",
    "company.category_code.value_counts()"
   ]
  },
  {
   "cell_type": "code",
   "execution_count": 52,
   "id": "526b2ad3",
   "metadata": {},
   "outputs": [
    {
     "data": {
      "text/plain": [
       "array(['USA', nan, 'MAR', 'IND', 'AUS', 'FRA', 'JPN', 'NLD', 'EGY', 'ISR',\n",
       "       'GBR', 'THA', 'CAN', 'AUT', 'IRL', 'SWE', 'DEU', 'BRA', 'FIN',\n",
       "       'RUS', 'SGP', 'MEX', 'CHN', 'ESP', 'ISL', 'KOR', 'TUR', 'DNK',\n",
       "       'ARG', 'PAK', 'HUN', 'POL', 'GRC', 'PRT', 'BLR', 'CSS', 'MKD',\n",
       "       'CHE', 'SVN', 'UKR', 'ITA', 'NZL', 'LIE', 'NOR', 'CZE', 'VNM',\n",
       "       'HRV', 'BEN', 'CHL', 'GHA', 'ZAF', 'MYS', 'EST', 'BEL', 'SVK',\n",
       "       'TWN', 'CRI', 'HKG', 'BGD', 'BOL', 'LBN', 'LUX', 'AZE', 'COL',\n",
       "       'PHL', 'ARE', 'IDN', 'ROM', 'ANT', 'CYM', 'NGA', 'GIN', 'CYP',\n",
       "       'LKA', 'SWZ', 'VGB', 'MLT', 'SAU', 'KEN', 'BGR', 'PER', 'LVA',\n",
       "       'LAO', 'NPL', 'MDA', 'CMR', 'UGA', 'TUN', 'URY', 'MUS', 'VEN',\n",
       "       'OMN', 'ECU', 'KWT', 'JOR', 'LTU', 'ALB', 'QAT', 'UMI', 'PST',\n",
       "       'REU', 'GTM', 'PCN', 'BHS', 'GEO', 'BWA', 'DZA', 'GRD', 'ZMB',\n",
       "       'GIB', 'PAN', 'MTQ', 'PRI', 'BIH', 'DMA', 'BHR', 'SYC', 'SLE',\n",
       "       'TTO', 'VCT', 'ARA', 'BRB', 'NAM', 'SLV', 'AFG', 'BLZ', 'UZB',\n",
       "       'IRN', 'TZA', 'ARM', 'ATG', 'DOM', 'JAM', 'MDV', 'MMR', 'KAZ',\n",
       "       'GLP', 'MAC', 'IOT', 'MDG', 'KGZ', 'VIR', 'ZWE', 'PRY', 'PRK',\n",
       "       'LSO', 'SMR', 'IRQ', 'BMU', 'NRU', 'KHM', 'ETH', 'BDI', 'SEN',\n",
       "       'HMI', 'HND', 'TJK', 'NER', 'NCL', 'CUB', 'FST', 'AGO', 'NFK',\n",
       "       'NIC', 'AND', 'MCO', 'YEM', 'BRN', 'HTI', 'AIA', 'SUR', 'SYR',\n",
       "       'SOM', 'RWA', 'CIV', 'SDN'], dtype=object)"
      ]
     },
     "execution_count": 52,
     "metadata": {},
     "output_type": "execute_result"
    }
   ],
   "source": [
    "#  Encoding Country column\n",
    "\n",
    "company.country_code.unique()"
   ]
  },
  {
   "cell_type": "code",
   "execution_count": 53,
   "id": "6f4bd961",
   "metadata": {},
   "outputs": [],
   "source": [
    "# Lets keep the country as same of it falls under above 10 otherwise let's replaceit with other.\n",
    "country_code_others_index = company['country_code'].value_counts()[9:].index\n",
    "company['country_code'] = company['country_code'].replace(to_replace=country_code_others_index,value='other')"
   ]
  },
  {
   "cell_type": "code",
   "execution_count": 54,
   "id": "0696ab3f",
   "metadata": {},
   "outputs": [
    {
     "name": "stdout",
     "output_type": "stream",
     "text": [
      "Unique no of country_code :  10\n"
     ]
    },
    {
     "data": {
      "text/plain": [
       "USA      43012\n",
       "other    12915\n",
       "GBR       6518\n",
       "IND       3591\n",
       "CAN       3346\n",
       "DEU       1780\n",
       "FRA       1556\n",
       "AUS       1371\n",
       "ESP       1050\n",
       "ISR        941\n",
       "Name: country_code, dtype: int64"
      ]
     },
     "execution_count": 54,
     "metadata": {},
     "output_type": "execute_result"
    }
   ],
   "source": [
    "\n",
    "# Let's check if we've more than 10 columns\n",
    "print('Unique no of country_code : ',company['country_code'].nunique())\n",
    "company.country_code.value_counts()"
   ]
  },
  {
   "cell_type": "code",
   "execution_count": 55,
   "id": "8bec6471",
   "metadata": {},
   "outputs": [
    {
     "data": {
      "text/plain": [
       "23333"
      ]
     },
     "execution_count": 55,
     "metadata": {},
     "output_type": "execute_result"
    }
   ],
   "source": [
    "company[\"country_code\"].isnull().sum()"
   ]
  },
  {
   "cell_type": "code",
   "execution_count": 56,
   "id": "eb8d6ef3",
   "metadata": {},
   "outputs": [
    {
     "data": {
      "text/plain": [
       "23.47077344009335"
      ]
     },
     "execution_count": 56,
     "metadata": {},
     "output_type": "execute_result"
    }
   ],
   "source": [
    "((company[\"country_code\"].isnull().sum())/(company[\"country_code\"].size))*100 "
   ]
  },
  {
   "cell_type": "code",
   "execution_count": 57,
   "id": "346994b5",
   "metadata": {},
   "outputs": [
    {
     "data": {
      "text/plain": [
       "'USA'"
      ]
     },
     "execution_count": 57,
     "metadata": {},
     "output_type": "execute_result"
    }
   ],
   "source": [
    "mode_val_1=company[\"country_code\"].mode()\n",
    "mode_val_1[0]"
   ]
  },
  {
   "cell_type": "code",
   "execution_count": 58,
   "id": "839c9002",
   "metadata": {},
   "outputs": [],
   "source": [
    "company[\"country_code\"].fillna(mode_val_1[0],inplace=True)"
   ]
  },
  {
   "cell_type": "code",
   "execution_count": 59,
   "id": "d3dbfd65",
   "metadata": {},
   "outputs": [],
   "source": [
    "## Numerical columns"
   ]
  },
  {
   "cell_type": "code",
   "execution_count": 60,
   "id": "a3bca4b9",
   "metadata": {},
   "outputs": [
    {
     "data": {
      "text/plain": [
       "Index(['founded_at', 'closed_at', 'first_funding_at', 'last_funding_at',\n",
       "       'funding_rounds', 'funding_total_usd', 'first_milestone_at',\n",
       "       'last_milestone_at', 'milestones', 'relationships', 'lat', 'lng'],\n",
       "      dtype='object')"
      ]
     },
     "execution_count": 60,
     "metadata": {},
     "output_type": "execute_result"
    }
   ],
   "source": [
    "num_columns=company.select_dtypes(include=['int','float']).columns\n",
    "num_columns"
   ]
  },
  {
   "cell_type": "code",
   "execution_count": 61,
   "id": "561b93d8",
   "metadata": {},
   "outputs": [
    {
     "data": {
      "text/plain": [
       "24256"
      ]
     },
     "execution_count": 61,
     "metadata": {},
     "output_type": "execute_result"
    }
   ],
   "source": [
    "## \"founded_at\"\n",
    "\n",
    "company[\"founded_at\"].isnull().sum()"
   ]
  },
  {
   "cell_type": "code",
   "execution_count": 62,
   "id": "14f00e8b",
   "metadata": {},
   "outputs": [
    {
     "data": {
      "text/plain": [
       "24.399223441602206"
      ]
     },
     "execution_count": 62,
     "metadata": {},
     "output_type": "execute_result"
    }
   ],
   "source": [
    "((company[\"founded_at\"].isnull().sum())/(company[\"founded_at\"].size))*100"
   ]
  },
  {
   "cell_type": "code",
   "execution_count": 63,
   "id": "6b65f61b",
   "metadata": {},
   "outputs": [
    {
     "data": {
      "text/plain": [
       "2011.0"
      ]
     },
     "execution_count": 63,
     "metadata": {},
     "output_type": "execute_result"
    }
   ],
   "source": [
    "## less than 30% missing values\n",
    "\n",
    "#hence let's impute with the median value of this column\n",
    "\n",
    "med=company[\"founded_at\"].mode()\n",
    "med[0]"
   ]
  },
  {
   "cell_type": "code",
   "execution_count": 64,
   "id": "5e4b40bf",
   "metadata": {},
   "outputs": [
    {
     "data": {
      "text/plain": [
       "0"
      ]
     },
     "execution_count": 64,
     "metadata": {},
     "output_type": "execute_result"
    }
   ],
   "source": [
    "company[\"founded_at\"].fillna(med[0],inplace=True)\n",
    "company[\"founded_at\"].isnull().sum()"
   ]
  },
  {
   "cell_type": "code",
   "execution_count": 65,
   "id": "8c20426d",
   "metadata": {},
   "outputs": [
    {
     "data": {
      "text/plain": [
       "97029"
      ]
     },
     "execution_count": 65,
     "metadata": {},
     "output_type": "execute_result"
    }
   ],
   "source": [
    "\n",
    "## \"closed_at\"\n",
    "\n",
    "company[\"closed_at\"].isnull().sum()"
   ]
  },
  {
   "cell_type": "code",
   "execution_count": 66,
   "id": "5ada6a25",
   "metadata": {},
   "outputs": [
    {
     "data": {
      "text/plain": [
       "array([  nan, 2010., 2011., 2012., 2013., 2009., 2007., 2008., 2006.,\n",
       "       2014., 2001., 2003., 2004., 1963., 2002., 1991., 2005., 1998.,\n",
       "       1986., 1997., 2000.])"
      ]
     },
     "execution_count": 66,
     "metadata": {},
     "output_type": "execute_result"
    }
   ],
   "source": [
    "company[\"closed_at\"].unique()"
   ]
  },
  {
   "cell_type": "code",
   "execution_count": 67,
   "id": "b94c4267",
   "metadata": {},
   "outputs": [
    {
     "data": {
      "text/plain": [
       "97.6019232897106"
      ]
     },
     "execution_count": 67,
     "metadata": {},
     "output_type": "execute_result"
    }
   ],
   "source": [
    "((company[\"closed_at\"].isnull().sum())/(company[\"closed_at\"].size))*100      "
   ]
  },
  {
   "cell_type": "code",
   "execution_count": 68,
   "id": "8863e952",
   "metadata": {},
   "outputs": [
    {
     "data": {
      "text/plain": [
       "74568"
      ]
     },
     "execution_count": 68,
     "metadata": {},
     "output_type": "execute_result"
    }
   ],
   "source": [
    "## \"first_funding_at\"\n",
    "\n",
    "company[\"first_funding_at\"].isnull().sum()"
   ]
  },
  {
   "cell_type": "code",
   "execution_count": 69,
   "id": "75b79bf0",
   "metadata": {},
   "outputs": [
    {
     "data": {
      "text/plain": [
       "99413"
      ]
     },
     "execution_count": 69,
     "metadata": {},
     "output_type": "execute_result"
    }
   ],
   "source": [
    "company[\"first_funding_at\"].size"
   ]
  },
  {
   "cell_type": "code",
   "execution_count": 70,
   "id": "80ef9dcd",
   "metadata": {},
   "outputs": [
    {
     "data": {
      "text/plain": [
       "75.00829871344794"
      ]
     },
     "execution_count": 70,
     "metadata": {},
     "output_type": "execute_result"
    }
   ],
   "source": [
    "((company[\"first_funding_at\"].isnull().sum())/(company[\"first_funding_at\"].size))*100"
   ]
  },
  {
   "cell_type": "code",
   "execution_count": 71,
   "id": "5e91775a",
   "metadata": {},
   "outputs": [
    {
     "data": {
      "text/plain": [
       "74568"
      ]
     },
     "execution_count": 71,
     "metadata": {},
     "output_type": "execute_result"
    }
   ],
   "source": [
    "# \"last_funding_at\"\n",
    "\n",
    "company[\"last_funding_at\"].isnull().sum()"
   ]
  },
  {
   "cell_type": "code",
   "execution_count": 72,
   "id": "ee5fb0fd",
   "metadata": {},
   "outputs": [
    {
     "data": {
      "text/plain": [
       "99413"
      ]
     },
     "execution_count": 72,
     "metadata": {},
     "output_type": "execute_result"
    }
   ],
   "source": [
    "company[\"last_funding_at\"].size"
   ]
  },
  {
   "cell_type": "code",
   "execution_count": 73,
   "id": "14d9fbee",
   "metadata": {},
   "outputs": [
    {
     "data": {
      "text/plain": [
       "75.00829871344794"
      ]
     },
     "execution_count": 73,
     "metadata": {},
     "output_type": "execute_result"
    }
   ],
   "source": [
    "\n",
    "((company[\"last_funding_at\"].isnull().sum())/(company[\"last_funding_at\"].size))*100"
   ]
  },
  {
   "cell_type": "code",
   "execution_count": 74,
   "id": "65da877f",
   "metadata": {},
   "outputs": [],
   "source": [
    "# replace the nan value with its \"mean\" value\n",
    "\n",
    "company[\"funding_rounds\"].fillna(company[\"funding_rounds\"].mean(),inplace=True)\n",
    "\n",
    "company[\"funding_total_usd\"].fillna(company[\"funding_total_usd\"].mean(),inplace=True)\n",
    "\n",
    "company[\"milestones\"].fillna(company[\"milestones\"].mean(),inplace=True)\n",
    "\n",
    "company[\"first_milestone_at\"].fillna(company[\"first_milestone_at\"].mean(),inplace=True)\n",
    "\n",
    "\n",
    "company[\"last_milestone_at\"].fillna(company[\"last_milestone_at\"].mean(),inplace=True)\n",
    "\n",
    "company[\"first_funding_at\"].fillna(company[\"first_funding_at\"].mean(),inplace=True)\n",
    "\n",
    "company[\"last_funding_at\"].fillna(company[\"last_funding_at\"].mean(),inplace=True)\n",
    "\n",
    "company[\"relationships\"].fillna(company[\"relationships\"].mean(),inplace=True)\n",
    "\n",
    "company[\"lat\"].fillna(company[\"lat\"].mean(),inplace=True)\n",
    "\n",
    "company[\"lng\"].fillna(company[\"lng\"].mean(),inplace=True)"
   ]
  },
  {
   "cell_type": "code",
   "execution_count": 75,
   "id": "594e26c9",
   "metadata": {},
   "outputs": [
    {
     "data": {
      "text/plain": [
       "Index(['category_code', 'status', 'founded_at', 'closed_at', 'country_code',\n",
       "       'first_funding_at', 'last_funding_at', 'funding_rounds',\n",
       "       'funding_total_usd', 'first_milestone_at', 'last_milestone_at',\n",
       "       'milestones', 'relationships', 'lat', 'lng'],\n",
       "      dtype='object')"
      ]
     },
     "execution_count": 75,
     "metadata": {},
     "output_type": "execute_result"
    }
   ],
   "source": [
    "company.columns"
   ]
  },
  {
   "cell_type": "code",
   "execution_count": 77,
   "id": "ad4c5ebb",
   "metadata": {},
   "outputs": [
    {
     "data": {
      "text/html": [
       "<div>\n",
       "<style scoped>\n",
       "    .dataframe tbody tr th:only-of-type {\n",
       "        vertical-align: middle;\n",
       "    }\n",
       "\n",
       "    .dataframe tbody tr th {\n",
       "        vertical-align: top;\n",
       "    }\n",
       "\n",
       "    .dataframe thead th {\n",
       "        text-align: right;\n",
       "    }\n",
       "</style>\n",
       "<table border=\"1\" class=\"dataframe\">\n",
       "  <thead>\n",
       "    <tr style=\"text-align: right;\">\n",
       "      <th></th>\n",
       "      <th>category_code</th>\n",
       "      <th>status</th>\n",
       "      <th>founded_at</th>\n",
       "      <th>closed_at</th>\n",
       "      <th>country_code</th>\n",
       "      <th>first_funding_at</th>\n",
       "      <th>last_funding_at</th>\n",
       "      <th>funding_rounds</th>\n",
       "      <th>funding_total_usd</th>\n",
       "      <th>first_milestone_at</th>\n",
       "      <th>last_milestone_at</th>\n",
       "      <th>milestones</th>\n",
       "      <th>relationships</th>\n",
       "      <th>lat</th>\n",
       "      <th>lng</th>\n",
       "    </tr>\n",
       "  </thead>\n",
       "  <tbody>\n",
       "    <tr>\n",
       "      <th>1</th>\n",
       "      <td>games_video</td>\n",
       "      <td>acquired</td>\n",
       "      <td>2011.0</td>\n",
       "      <td>NaN</td>\n",
       "      <td>USA</td>\n",
       "      <td>2010.357698</td>\n",
       "      <td>2010.745623</td>\n",
       "      <td>1.310153</td>\n",
       "      <td>3.859288e+06</td>\n",
       "      <td>2008.939794</td>\n",
       "      <td>2009.401837</td>\n",
       "      <td>1.232714</td>\n",
       "      <td>6.000000</td>\n",
       "      <td>34.021122</td>\n",
       "      <td>-118.396467</td>\n",
       "    </tr>\n",
       "    <tr>\n",
       "      <th>3</th>\n",
       "      <td>network_hosting</td>\n",
       "      <td>operating</td>\n",
       "      <td>2008.0</td>\n",
       "      <td>NaN</td>\n",
       "      <td>USA</td>\n",
       "      <td>2010.357698</td>\n",
       "      <td>2010.745623</td>\n",
       "      <td>1.310153</td>\n",
       "      <td>3.859288e+06</td>\n",
       "      <td>2008.939794</td>\n",
       "      <td>2009.401837</td>\n",
       "      <td>1.232714</td>\n",
       "      <td>2.431833</td>\n",
       "      <td>37.376781</td>\n",
       "      <td>-49.246564</td>\n",
       "    </tr>\n",
       "    <tr>\n",
       "      <th>4</th>\n",
       "      <td>games_video</td>\n",
       "      <td>operating</td>\n",
       "      <td>2008.0</td>\n",
       "      <td>NaN</td>\n",
       "      <td>USA</td>\n",
       "      <td>2010.357698</td>\n",
       "      <td>2010.745623</td>\n",
       "      <td>1.310153</td>\n",
       "      <td>3.859288e+06</td>\n",
       "      <td>2008.939794</td>\n",
       "      <td>2009.401837</td>\n",
       "      <td>1.232714</td>\n",
       "      <td>2.431833</td>\n",
       "      <td>37.376781</td>\n",
       "      <td>-49.246564</td>\n",
       "    </tr>\n",
       "    <tr>\n",
       "      <th>5</th>\n",
       "      <td>advertising</td>\n",
       "      <td>operating</td>\n",
       "      <td>2007.0</td>\n",
       "      <td>NaN</td>\n",
       "      <td>other</td>\n",
       "      <td>2010.357698</td>\n",
       "      <td>2010.745623</td>\n",
       "      <td>1.310153</td>\n",
       "      <td>3.859288e+06</td>\n",
       "      <td>2008.939794</td>\n",
       "      <td>2009.401837</td>\n",
       "      <td>1.232714</td>\n",
       "      <td>2.000000</td>\n",
       "      <td>30.427755</td>\n",
       "      <td>-9.598107</td>\n",
       "    </tr>\n",
       "    <tr>\n",
       "      <th>6</th>\n",
       "      <td>other</td>\n",
       "      <td>operating</td>\n",
       "      <td>2008.0</td>\n",
       "      <td>NaN</td>\n",
       "      <td>IND</td>\n",
       "      <td>2010.357698</td>\n",
       "      <td>2010.745623</td>\n",
       "      <td>1.310153</td>\n",
       "      <td>3.859288e+06</td>\n",
       "      <td>2008.939794</td>\n",
       "      <td>2009.401837</td>\n",
       "      <td>1.232714</td>\n",
       "      <td>2.431833</td>\n",
       "      <td>22.307159</td>\n",
       "      <td>73.181219</td>\n",
       "    </tr>\n",
       "  </tbody>\n",
       "</table>\n",
       "</div>"
      ],
      "text/plain": [
       "     category_code     status  founded_at  closed_at country_code  \\\n",
       "1      games_video   acquired      2011.0        NaN          USA   \n",
       "3  network_hosting  operating      2008.0        NaN          USA   \n",
       "4      games_video  operating      2008.0        NaN          USA   \n",
       "5      advertising  operating      2007.0        NaN        other   \n",
       "6            other  operating      2008.0        NaN          IND   \n",
       "\n",
       "   first_funding_at  last_funding_at  funding_rounds  funding_total_usd  \\\n",
       "1       2010.357698      2010.745623        1.310153       3.859288e+06   \n",
       "3       2010.357698      2010.745623        1.310153       3.859288e+06   \n",
       "4       2010.357698      2010.745623        1.310153       3.859288e+06   \n",
       "5       2010.357698      2010.745623        1.310153       3.859288e+06   \n",
       "6       2010.357698      2010.745623        1.310153       3.859288e+06   \n",
       "\n",
       "   first_milestone_at  last_milestone_at  milestones  relationships  \\\n",
       "1         2008.939794        2009.401837    1.232714       6.000000   \n",
       "3         2008.939794        2009.401837    1.232714       2.431833   \n",
       "4         2008.939794        2009.401837    1.232714       2.431833   \n",
       "5         2008.939794        2009.401837    1.232714       2.000000   \n",
       "6         2008.939794        2009.401837    1.232714       2.431833   \n",
       "\n",
       "         lat         lng  \n",
       "1  34.021122 -118.396467  \n",
       "3  37.376781  -49.246564  \n",
       "4  37.376781  -49.246564  \n",
       "5  30.427755   -9.598107  \n",
       "6  22.307159   73.181219  "
      ]
     },
     "execution_count": 77,
     "metadata": {},
     "output_type": "execute_result"
    }
   ],
   "source": [
    "df.head()"
   ]
  },
  {
   "cell_type": "code",
   "execution_count": 78,
   "id": "5a19cabe",
   "metadata": {},
   "outputs": [
    {
     "data": {
      "text/html": [
       "<div>\n",
       "<style scoped>\n",
       "    .dataframe tbody tr th:only-of-type {\n",
       "        vertical-align: middle;\n",
       "    }\n",
       "\n",
       "    .dataframe tbody tr th {\n",
       "        vertical-align: top;\n",
       "    }\n",
       "\n",
       "    .dataframe thead th {\n",
       "        text-align: right;\n",
       "    }\n",
       "</style>\n",
       "<table border=\"1\" class=\"dataframe\">\n",
       "  <thead>\n",
       "    <tr style=\"text-align: right;\">\n",
       "      <th></th>\n",
       "      <th>category_code</th>\n",
       "      <th>status</th>\n",
       "      <th>founded_at</th>\n",
       "      <th>closed_at</th>\n",
       "      <th>country_code</th>\n",
       "      <th>first_funding_at</th>\n",
       "      <th>last_funding_at</th>\n",
       "      <th>funding_rounds</th>\n",
       "      <th>funding_total_usd</th>\n",
       "      <th>first_milestone_at</th>\n",
       "      <th>last_milestone_at</th>\n",
       "      <th>milestones</th>\n",
       "      <th>relationships</th>\n",
       "      <th>lat</th>\n",
       "      <th>lng</th>\n",
       "      <th>isClosed</th>\n",
       "    </tr>\n",
       "  </thead>\n",
       "  <tbody>\n",
       "    <tr>\n",
       "      <th>1</th>\n",
       "      <td>games_video</td>\n",
       "      <td>acquired</td>\n",
       "      <td>2011.0</td>\n",
       "      <td>NaN</td>\n",
       "      <td>USA</td>\n",
       "      <td>2010.357698</td>\n",
       "      <td>2010.745623</td>\n",
       "      <td>1.310153</td>\n",
       "      <td>3.859288e+06</td>\n",
       "      <td>2008.939794</td>\n",
       "      <td>2009.401837</td>\n",
       "      <td>1.232714</td>\n",
       "      <td>6.000000</td>\n",
       "      <td>34.021122</td>\n",
       "      <td>-118.396467</td>\n",
       "      <td>1</td>\n",
       "    </tr>\n",
       "    <tr>\n",
       "      <th>3</th>\n",
       "      <td>network_hosting</td>\n",
       "      <td>operating</td>\n",
       "      <td>2008.0</td>\n",
       "      <td>NaN</td>\n",
       "      <td>USA</td>\n",
       "      <td>2010.357698</td>\n",
       "      <td>2010.745623</td>\n",
       "      <td>1.310153</td>\n",
       "      <td>3.859288e+06</td>\n",
       "      <td>2008.939794</td>\n",
       "      <td>2009.401837</td>\n",
       "      <td>1.232714</td>\n",
       "      <td>2.431833</td>\n",
       "      <td>37.376781</td>\n",
       "      <td>-49.246564</td>\n",
       "      <td>0</td>\n",
       "    </tr>\n",
       "    <tr>\n",
       "      <th>4</th>\n",
       "      <td>games_video</td>\n",
       "      <td>operating</td>\n",
       "      <td>2008.0</td>\n",
       "      <td>NaN</td>\n",
       "      <td>USA</td>\n",
       "      <td>2010.357698</td>\n",
       "      <td>2010.745623</td>\n",
       "      <td>1.310153</td>\n",
       "      <td>3.859288e+06</td>\n",
       "      <td>2008.939794</td>\n",
       "      <td>2009.401837</td>\n",
       "      <td>1.232714</td>\n",
       "      <td>2.431833</td>\n",
       "      <td>37.376781</td>\n",
       "      <td>-49.246564</td>\n",
       "      <td>0</td>\n",
       "    </tr>\n",
       "    <tr>\n",
       "      <th>5</th>\n",
       "      <td>advertising</td>\n",
       "      <td>operating</td>\n",
       "      <td>2007.0</td>\n",
       "      <td>NaN</td>\n",
       "      <td>other</td>\n",
       "      <td>2010.357698</td>\n",
       "      <td>2010.745623</td>\n",
       "      <td>1.310153</td>\n",
       "      <td>3.859288e+06</td>\n",
       "      <td>2008.939794</td>\n",
       "      <td>2009.401837</td>\n",
       "      <td>1.232714</td>\n",
       "      <td>2.000000</td>\n",
       "      <td>30.427755</td>\n",
       "      <td>-9.598107</td>\n",
       "      <td>0</td>\n",
       "    </tr>\n",
       "    <tr>\n",
       "      <th>6</th>\n",
       "      <td>other</td>\n",
       "      <td>operating</td>\n",
       "      <td>2008.0</td>\n",
       "      <td>NaN</td>\n",
       "      <td>IND</td>\n",
       "      <td>2010.357698</td>\n",
       "      <td>2010.745623</td>\n",
       "      <td>1.310153</td>\n",
       "      <td>3.859288e+06</td>\n",
       "      <td>2008.939794</td>\n",
       "      <td>2009.401837</td>\n",
       "      <td>1.232714</td>\n",
       "      <td>2.431833</td>\n",
       "      <td>22.307159</td>\n",
       "      <td>73.181219</td>\n",
       "      <td>0</td>\n",
       "    </tr>\n",
       "    <tr>\n",
       "      <th>...</th>\n",
       "      <td>...</td>\n",
       "      <td>...</td>\n",
       "      <td>...</td>\n",
       "      <td>...</td>\n",
       "      <td>...</td>\n",
       "      <td>...</td>\n",
       "      <td>...</td>\n",
       "      <td>...</td>\n",
       "      <td>...</td>\n",
       "      <td>...</td>\n",
       "      <td>...</td>\n",
       "      <td>...</td>\n",
       "      <td>...</td>\n",
       "      <td>...</td>\n",
       "      <td>...</td>\n",
       "      <td>...</td>\n",
       "    </tr>\n",
       "    <tr>\n",
       "      <th>196545</th>\n",
       "      <td>software</td>\n",
       "      <td>operating</td>\n",
       "      <td>2004.0</td>\n",
       "      <td>NaN</td>\n",
       "      <td>USA</td>\n",
       "      <td>2010.357698</td>\n",
       "      <td>2010.745623</td>\n",
       "      <td>1.310153</td>\n",
       "      <td>3.859288e+06</td>\n",
       "      <td>2008.939794</td>\n",
       "      <td>2009.401837</td>\n",
       "      <td>1.232714</td>\n",
       "      <td>2.431833</td>\n",
       "      <td>40.748350</td>\n",
       "      <td>-74.323219</td>\n",
       "      <td>0</td>\n",
       "    </tr>\n",
       "    <tr>\n",
       "      <th>196547</th>\n",
       "      <td>advertising</td>\n",
       "      <td>operating</td>\n",
       "      <td>2008.0</td>\n",
       "      <td>NaN</td>\n",
       "      <td>USA</td>\n",
       "      <td>2007.000000</td>\n",
       "      <td>2008.000000</td>\n",
       "      <td>2.000000</td>\n",
       "      <td>5.000000e+05</td>\n",
       "      <td>2009.000000</td>\n",
       "      <td>2009.000000</td>\n",
       "      <td>1.000000</td>\n",
       "      <td>2.000000</td>\n",
       "      <td>37.376781</td>\n",
       "      <td>-49.246564</td>\n",
       "      <td>0</td>\n",
       "    </tr>\n",
       "    <tr>\n",
       "      <th>196548</th>\n",
       "      <td>ecommerce</td>\n",
       "      <td>operating</td>\n",
       "      <td>2007.0</td>\n",
       "      <td>NaN</td>\n",
       "      <td>USA</td>\n",
       "      <td>2010.357698</td>\n",
       "      <td>2010.745623</td>\n",
       "      <td>1.310153</td>\n",
       "      <td>3.859288e+06</td>\n",
       "      <td>2013.000000</td>\n",
       "      <td>2013.000000</td>\n",
       "      <td>2.000000</td>\n",
       "      <td>5.000000</td>\n",
       "      <td>37.774929</td>\n",
       "      <td>-122.419415</td>\n",
       "      <td>0</td>\n",
       "    </tr>\n",
       "    <tr>\n",
       "      <th>196551</th>\n",
       "      <td>search</td>\n",
       "      <td>operating</td>\n",
       "      <td>2008.0</td>\n",
       "      <td>NaN</td>\n",
       "      <td>USA</td>\n",
       "      <td>2010.357698</td>\n",
       "      <td>2010.745623</td>\n",
       "      <td>1.310153</td>\n",
       "      <td>3.859288e+06</td>\n",
       "      <td>2008.939794</td>\n",
       "      <td>2009.401837</td>\n",
       "      <td>1.232714</td>\n",
       "      <td>1.000000</td>\n",
       "      <td>34.052234</td>\n",
       "      <td>-118.243685</td>\n",
       "      <td>0</td>\n",
       "    </tr>\n",
       "    <tr>\n",
       "      <th>196552</th>\n",
       "      <td>ecommerce</td>\n",
       "      <td>operating</td>\n",
       "      <td>2007.0</td>\n",
       "      <td>NaN</td>\n",
       "      <td>USA</td>\n",
       "      <td>2008.000000</td>\n",
       "      <td>2008.000000</td>\n",
       "      <td>1.000000</td>\n",
       "      <td>4.750000e+05</td>\n",
       "      <td>2006.000000</td>\n",
       "      <td>2008.000000</td>\n",
       "      <td>2.000000</td>\n",
       "      <td>1.000000</td>\n",
       "      <td>34.035633</td>\n",
       "      <td>-118.515590</td>\n",
       "      <td>0</td>\n",
       "    </tr>\n",
       "  </tbody>\n",
       "</table>\n",
       "<p>99413 rows × 16 columns</p>\n",
       "</div>"
      ],
      "text/plain": [
       "          category_code     status  founded_at  closed_at country_code  \\\n",
       "1           games_video   acquired      2011.0        NaN          USA   \n",
       "3       network_hosting  operating      2008.0        NaN          USA   \n",
       "4           games_video  operating      2008.0        NaN          USA   \n",
       "5           advertising  operating      2007.0        NaN        other   \n",
       "6                 other  operating      2008.0        NaN          IND   \n",
       "...                 ...        ...         ...        ...          ...   \n",
       "196545         software  operating      2004.0        NaN          USA   \n",
       "196547      advertising  operating      2008.0        NaN          USA   \n",
       "196548        ecommerce  operating      2007.0        NaN          USA   \n",
       "196551           search  operating      2008.0        NaN          USA   \n",
       "196552        ecommerce  operating      2007.0        NaN          USA   \n",
       "\n",
       "        first_funding_at  last_funding_at  funding_rounds  funding_total_usd  \\\n",
       "1            2010.357698      2010.745623        1.310153       3.859288e+06   \n",
       "3            2010.357698      2010.745623        1.310153       3.859288e+06   \n",
       "4            2010.357698      2010.745623        1.310153       3.859288e+06   \n",
       "5            2010.357698      2010.745623        1.310153       3.859288e+06   \n",
       "6            2010.357698      2010.745623        1.310153       3.859288e+06   \n",
       "...                  ...              ...             ...                ...   \n",
       "196545       2010.357698      2010.745623        1.310153       3.859288e+06   \n",
       "196547       2007.000000      2008.000000        2.000000       5.000000e+05   \n",
       "196548       2010.357698      2010.745623        1.310153       3.859288e+06   \n",
       "196551       2010.357698      2010.745623        1.310153       3.859288e+06   \n",
       "196552       2008.000000      2008.000000        1.000000       4.750000e+05   \n",
       "\n",
       "        first_milestone_at  last_milestone_at  milestones  relationships  \\\n",
       "1              2008.939794        2009.401837    1.232714       6.000000   \n",
       "3              2008.939794        2009.401837    1.232714       2.431833   \n",
       "4              2008.939794        2009.401837    1.232714       2.431833   \n",
       "5              2008.939794        2009.401837    1.232714       2.000000   \n",
       "6              2008.939794        2009.401837    1.232714       2.431833   \n",
       "...                    ...                ...         ...            ...   \n",
       "196545         2008.939794        2009.401837    1.232714       2.431833   \n",
       "196547         2009.000000        2009.000000    1.000000       2.000000   \n",
       "196548         2013.000000        2013.000000    2.000000       5.000000   \n",
       "196551         2008.939794        2009.401837    1.232714       1.000000   \n",
       "196552         2006.000000        2008.000000    2.000000       1.000000   \n",
       "\n",
       "              lat         lng  isClosed  \n",
       "1       34.021122 -118.396467         1  \n",
       "3       37.376781  -49.246564         0  \n",
       "4       37.376781  -49.246564         0  \n",
       "5       30.427755   -9.598107         0  \n",
       "6       22.307159   73.181219         0  \n",
       "...           ...         ...       ...  \n",
       "196545  40.748350  -74.323219         0  \n",
       "196547  37.376781  -49.246564         0  \n",
       "196548  37.774929 -122.419415         0  \n",
       "196551  34.052234 -118.243685         0  \n",
       "196552  34.035633 -118.515590         0  \n",
       "\n",
       "[99413 rows x 16 columns]"
      ]
     },
     "execution_count": 78,
     "metadata": {},
     "output_type": "execute_result"
    }
   ],
   "source": [
    "# I assign 'operating' or 'ipo' as 'operating' and 'closed' or 'acquired' as 'acquired'\n",
    "\n",
    "def isClosed(row):\n",
    "    if row['status'] == 'operating' or row['status'] == 'ipo':\n",
    "        return 0\n",
    "    else:\n",
    "        return 1\n",
    "company['isClosed'] = company.apply(lambda rw: isClosed(rw),axis=1)\n",
    "company"
   ]
  },
  {
   "cell_type": "code",
   "execution_count": 79,
   "id": "ae609c9f",
   "metadata": {},
   "outputs": [],
   "source": [
    "#Replacing the values in closed_at column\n",
    "#if the value in status is 'operating' or 'ipo' in closed_at, Let's put 2021.\n",
    " #Where as if the value is 'acquired' or 'closed', let's put 0.\n",
    "\n",
    "company['closed_at']=(np.where((company['status']=='operating')|(company['status']=='ipo'),2021,company['closed_at']))\n",
    "\n",
    "company['closed_at']=(np.where((company['status']=='acquired')|(company['status']=='closed'),0,company['closed_at']))"
   ]
  },
  {
   "cell_type": "code",
   "execution_count": 80,
   "id": "18e491a5",
   "metadata": {},
   "outputs": [
    {
     "data": {
      "text/plain": [
       "0    90948\n",
       "1     8465\n",
       "Name: isClosed, dtype: int64"
      ]
     },
     "execution_count": 80,
     "metadata": {},
     "output_type": "execute_result"
    }
   ],
   "source": [
    "\n",
    "company.isClosed.value_counts()"
   ]
  },
  {
   "cell_type": "code",
   "execution_count": 81,
   "id": "a3bc6067",
   "metadata": {},
   "outputs": [],
   "source": [
    "\n",
    "company['status'] = company['status'].replace(['operating', 'ipo'],'operating')\n",
    "\n",
    "company['status'] = company['status'].replace(['closed', 'acquired'],'acquired')"
   ]
  },
  {
   "cell_type": "code",
   "execution_count": 82,
   "id": "c358c893",
   "metadata": {},
   "outputs": [
    {
     "data": {
      "text/plain": [
       "operating    90948\n",
       "acquired      8465\n",
       "Name: status, dtype: int64"
      ]
     },
     "execution_count": 82,
     "metadata": {},
     "output_type": "execute_result"
    }
   ],
   "source": [
    "\n",
    "company.status.value_counts()"
   ]
  },
  {
   "cell_type": "code",
   "execution_count": 84,
   "id": "5d75efb3",
   "metadata": {},
   "outputs": [
    {
     "data": {
      "text/html": [
       "<div>\n",
       "<style scoped>\n",
       "    .dataframe tbody tr th:only-of-type {\n",
       "        vertical-align: middle;\n",
       "    }\n",
       "\n",
       "    .dataframe tbody tr th {\n",
       "        vertical-align: top;\n",
       "    }\n",
       "\n",
       "    .dataframe thead th {\n",
       "        text-align: right;\n",
       "    }\n",
       "</style>\n",
       "<table border=\"1\" class=\"dataframe\">\n",
       "  <thead>\n",
       "    <tr style=\"text-align: right;\">\n",
       "      <th></th>\n",
       "      <th>category_code</th>\n",
       "      <th>status</th>\n",
       "      <th>founded_at</th>\n",
       "      <th>closed_at</th>\n",
       "      <th>country_code</th>\n",
       "      <th>first_funding_at</th>\n",
       "      <th>last_funding_at</th>\n",
       "      <th>funding_rounds</th>\n",
       "      <th>funding_total_usd</th>\n",
       "      <th>first_milestone_at</th>\n",
       "      <th>last_milestone_at</th>\n",
       "      <th>milestones</th>\n",
       "      <th>relationships</th>\n",
       "      <th>lat</th>\n",
       "      <th>lng</th>\n",
       "      <th>isClosed</th>\n",
       "      <th>active_days</th>\n",
       "    </tr>\n",
       "  </thead>\n",
       "  <tbody>\n",
       "    <tr>\n",
       "      <th>1</th>\n",
       "      <td>games_video</td>\n",
       "      <td>acquired</td>\n",
       "      <td>2011.0</td>\n",
       "      <td>0.0</td>\n",
       "      <td>USA</td>\n",
       "      <td>2010.357698</td>\n",
       "      <td>2010.745623</td>\n",
       "      <td>1.310153</td>\n",
       "      <td>3.859288e+06</td>\n",
       "      <td>2008.939794</td>\n",
       "      <td>2009.401837</td>\n",
       "      <td>1.232714</td>\n",
       "      <td>6.000000</td>\n",
       "      <td>34.021122</td>\n",
       "      <td>-118.396467</td>\n",
       "      <td>1</td>\n",
       "      <td>-734015.0</td>\n",
       "    </tr>\n",
       "    <tr>\n",
       "      <th>3</th>\n",
       "      <td>network_hosting</td>\n",
       "      <td>operating</td>\n",
       "      <td>2008.0</td>\n",
       "      <td>2021.0</td>\n",
       "      <td>USA</td>\n",
       "      <td>2010.357698</td>\n",
       "      <td>2010.745623</td>\n",
       "      <td>1.310153</td>\n",
       "      <td>3.859288e+06</td>\n",
       "      <td>2008.939794</td>\n",
       "      <td>2009.401837</td>\n",
       "      <td>1.232714</td>\n",
       "      <td>2.431833</td>\n",
       "      <td>37.376781</td>\n",
       "      <td>-49.246564</td>\n",
       "      <td>0</td>\n",
       "      <td>4745.0</td>\n",
       "    </tr>\n",
       "    <tr>\n",
       "      <th>4</th>\n",
       "      <td>games_video</td>\n",
       "      <td>operating</td>\n",
       "      <td>2008.0</td>\n",
       "      <td>2021.0</td>\n",
       "      <td>USA</td>\n",
       "      <td>2010.357698</td>\n",
       "      <td>2010.745623</td>\n",
       "      <td>1.310153</td>\n",
       "      <td>3.859288e+06</td>\n",
       "      <td>2008.939794</td>\n",
       "      <td>2009.401837</td>\n",
       "      <td>1.232714</td>\n",
       "      <td>2.431833</td>\n",
       "      <td>37.376781</td>\n",
       "      <td>-49.246564</td>\n",
       "      <td>0</td>\n",
       "      <td>4745.0</td>\n",
       "    </tr>\n",
       "    <tr>\n",
       "      <th>5</th>\n",
       "      <td>advertising</td>\n",
       "      <td>operating</td>\n",
       "      <td>2007.0</td>\n",
       "      <td>2021.0</td>\n",
       "      <td>other</td>\n",
       "      <td>2010.357698</td>\n",
       "      <td>2010.745623</td>\n",
       "      <td>1.310153</td>\n",
       "      <td>3.859288e+06</td>\n",
       "      <td>2008.939794</td>\n",
       "      <td>2009.401837</td>\n",
       "      <td>1.232714</td>\n",
       "      <td>2.000000</td>\n",
       "      <td>30.427755</td>\n",
       "      <td>-9.598107</td>\n",
       "      <td>0</td>\n",
       "      <td>5110.0</td>\n",
       "    </tr>\n",
       "    <tr>\n",
       "      <th>6</th>\n",
       "      <td>other</td>\n",
       "      <td>operating</td>\n",
       "      <td>2008.0</td>\n",
       "      <td>2021.0</td>\n",
       "      <td>IND</td>\n",
       "      <td>2010.357698</td>\n",
       "      <td>2010.745623</td>\n",
       "      <td>1.310153</td>\n",
       "      <td>3.859288e+06</td>\n",
       "      <td>2008.939794</td>\n",
       "      <td>2009.401837</td>\n",
       "      <td>1.232714</td>\n",
       "      <td>2.431833</td>\n",
       "      <td>22.307159</td>\n",
       "      <td>73.181219</td>\n",
       "      <td>0</td>\n",
       "      <td>4745.0</td>\n",
       "    </tr>\n",
       "  </tbody>\n",
       "</table>\n",
       "</div>"
      ],
      "text/plain": [
       "     category_code     status  founded_at  closed_at country_code  \\\n",
       "1      games_video   acquired      2011.0        0.0          USA   \n",
       "3  network_hosting  operating      2008.0     2021.0          USA   \n",
       "4      games_video  operating      2008.0     2021.0          USA   \n",
       "5      advertising  operating      2007.0     2021.0        other   \n",
       "6            other  operating      2008.0     2021.0          IND   \n",
       "\n",
       "   first_funding_at  last_funding_at  funding_rounds  funding_total_usd  \\\n",
       "1       2010.357698      2010.745623        1.310153       3.859288e+06   \n",
       "3       2010.357698      2010.745623        1.310153       3.859288e+06   \n",
       "4       2010.357698      2010.745623        1.310153       3.859288e+06   \n",
       "5       2010.357698      2010.745623        1.310153       3.859288e+06   \n",
       "6       2010.357698      2010.745623        1.310153       3.859288e+06   \n",
       "\n",
       "   first_milestone_at  last_milestone_at  milestones  relationships  \\\n",
       "1         2008.939794        2009.401837    1.232714       6.000000   \n",
       "3         2008.939794        2009.401837    1.232714       2.431833   \n",
       "4         2008.939794        2009.401837    1.232714       2.431833   \n",
       "5         2008.939794        2009.401837    1.232714       2.000000   \n",
       "6         2008.939794        2009.401837    1.232714       2.431833   \n",
       "\n",
       "         lat         lng  isClosed  active_days  \n",
       "1  34.021122 -118.396467         1    -734015.0  \n",
       "3  37.376781  -49.246564         0       4745.0  \n",
       "4  37.376781  -49.246564         0       4745.0  \n",
       "5  30.427755   -9.598107         0       5110.0  \n",
       "6  22.307159   73.181219         0       4745.0  "
      ]
     },
     "execution_count": 84,
     "metadata": {},
     "output_type": "execute_result"
    }
   ],
   "source": [
    "# Create active days\n",
    "\n",
    "#Subtract founded_date from closed_date, and calculate age in days (After calculating active days,then delete the closed_at column)\n",
    "\n",
    "\n",
    "company['active_days'] = (company['closed_at'] - company['founded_at'])*365\n",
    "company[\"active_days\"]\n",
    "\n",
    "company.head()"
   ]
  },
  {
   "cell_type": "code",
   "execution_count": 85,
   "id": "d9096217",
   "metadata": {},
   "outputs": [
    {
     "data": {
      "text/html": [
       "<div>\n",
       "<style scoped>\n",
       "    .dataframe tbody tr th:only-of-type {\n",
       "        vertical-align: middle;\n",
       "    }\n",
       "\n",
       "    .dataframe tbody tr th {\n",
       "        vertical-align: top;\n",
       "    }\n",
       "\n",
       "    .dataframe thead th {\n",
       "        text-align: right;\n",
       "    }\n",
       "</style>\n",
       "<table border=\"1\" class=\"dataframe\">\n",
       "  <thead>\n",
       "    <tr style=\"text-align: right;\">\n",
       "      <th></th>\n",
       "      <th>category_code</th>\n",
       "      <th>status</th>\n",
       "      <th>founded_at</th>\n",
       "      <th>country_code</th>\n",
       "      <th>first_funding_at</th>\n",
       "      <th>last_funding_at</th>\n",
       "      <th>funding_rounds</th>\n",
       "      <th>funding_total_usd</th>\n",
       "      <th>first_milestone_at</th>\n",
       "      <th>last_milestone_at</th>\n",
       "      <th>milestones</th>\n",
       "      <th>relationships</th>\n",
       "      <th>lat</th>\n",
       "      <th>lng</th>\n",
       "      <th>isClosed</th>\n",
       "      <th>active_days</th>\n",
       "    </tr>\n",
       "  </thead>\n",
       "  <tbody>\n",
       "    <tr>\n",
       "      <th>1</th>\n",
       "      <td>games_video</td>\n",
       "      <td>acquired</td>\n",
       "      <td>2011.0</td>\n",
       "      <td>USA</td>\n",
       "      <td>2010.357698</td>\n",
       "      <td>2010.745623</td>\n",
       "      <td>1.310153</td>\n",
       "      <td>3.859288e+06</td>\n",
       "      <td>2008.939794</td>\n",
       "      <td>2009.401837</td>\n",
       "      <td>1.232714</td>\n",
       "      <td>6.000000</td>\n",
       "      <td>34.021122</td>\n",
       "      <td>-118.396467</td>\n",
       "      <td>1</td>\n",
       "      <td>-734015.0</td>\n",
       "    </tr>\n",
       "    <tr>\n",
       "      <th>3</th>\n",
       "      <td>network_hosting</td>\n",
       "      <td>operating</td>\n",
       "      <td>2008.0</td>\n",
       "      <td>USA</td>\n",
       "      <td>2010.357698</td>\n",
       "      <td>2010.745623</td>\n",
       "      <td>1.310153</td>\n",
       "      <td>3.859288e+06</td>\n",
       "      <td>2008.939794</td>\n",
       "      <td>2009.401837</td>\n",
       "      <td>1.232714</td>\n",
       "      <td>2.431833</td>\n",
       "      <td>37.376781</td>\n",
       "      <td>-49.246564</td>\n",
       "      <td>0</td>\n",
       "      <td>4745.0</td>\n",
       "    </tr>\n",
       "    <tr>\n",
       "      <th>4</th>\n",
       "      <td>games_video</td>\n",
       "      <td>operating</td>\n",
       "      <td>2008.0</td>\n",
       "      <td>USA</td>\n",
       "      <td>2010.357698</td>\n",
       "      <td>2010.745623</td>\n",
       "      <td>1.310153</td>\n",
       "      <td>3.859288e+06</td>\n",
       "      <td>2008.939794</td>\n",
       "      <td>2009.401837</td>\n",
       "      <td>1.232714</td>\n",
       "      <td>2.431833</td>\n",
       "      <td>37.376781</td>\n",
       "      <td>-49.246564</td>\n",
       "      <td>0</td>\n",
       "      <td>4745.0</td>\n",
       "    </tr>\n",
       "    <tr>\n",
       "      <th>5</th>\n",
       "      <td>advertising</td>\n",
       "      <td>operating</td>\n",
       "      <td>2007.0</td>\n",
       "      <td>other</td>\n",
       "      <td>2010.357698</td>\n",
       "      <td>2010.745623</td>\n",
       "      <td>1.310153</td>\n",
       "      <td>3.859288e+06</td>\n",
       "      <td>2008.939794</td>\n",
       "      <td>2009.401837</td>\n",
       "      <td>1.232714</td>\n",
       "      <td>2.000000</td>\n",
       "      <td>30.427755</td>\n",
       "      <td>-9.598107</td>\n",
       "      <td>0</td>\n",
       "      <td>5110.0</td>\n",
       "    </tr>\n",
       "    <tr>\n",
       "      <th>6</th>\n",
       "      <td>other</td>\n",
       "      <td>operating</td>\n",
       "      <td>2008.0</td>\n",
       "      <td>IND</td>\n",
       "      <td>2010.357698</td>\n",
       "      <td>2010.745623</td>\n",
       "      <td>1.310153</td>\n",
       "      <td>3.859288e+06</td>\n",
       "      <td>2008.939794</td>\n",
       "      <td>2009.401837</td>\n",
       "      <td>1.232714</td>\n",
       "      <td>2.431833</td>\n",
       "      <td>22.307159</td>\n",
       "      <td>73.181219</td>\n",
       "      <td>0</td>\n",
       "      <td>4745.0</td>\n",
       "    </tr>\n",
       "    <tr>\n",
       "      <th>...</th>\n",
       "      <td>...</td>\n",
       "      <td>...</td>\n",
       "      <td>...</td>\n",
       "      <td>...</td>\n",
       "      <td>...</td>\n",
       "      <td>...</td>\n",
       "      <td>...</td>\n",
       "      <td>...</td>\n",
       "      <td>...</td>\n",
       "      <td>...</td>\n",
       "      <td>...</td>\n",
       "      <td>...</td>\n",
       "      <td>...</td>\n",
       "      <td>...</td>\n",
       "      <td>...</td>\n",
       "      <td>...</td>\n",
       "    </tr>\n",
       "    <tr>\n",
       "      <th>196545</th>\n",
       "      <td>software</td>\n",
       "      <td>operating</td>\n",
       "      <td>2004.0</td>\n",
       "      <td>USA</td>\n",
       "      <td>2010.357698</td>\n",
       "      <td>2010.745623</td>\n",
       "      <td>1.310153</td>\n",
       "      <td>3.859288e+06</td>\n",
       "      <td>2008.939794</td>\n",
       "      <td>2009.401837</td>\n",
       "      <td>1.232714</td>\n",
       "      <td>2.431833</td>\n",
       "      <td>40.748350</td>\n",
       "      <td>-74.323219</td>\n",
       "      <td>0</td>\n",
       "      <td>6205.0</td>\n",
       "    </tr>\n",
       "    <tr>\n",
       "      <th>196547</th>\n",
       "      <td>advertising</td>\n",
       "      <td>operating</td>\n",
       "      <td>2008.0</td>\n",
       "      <td>USA</td>\n",
       "      <td>2007.000000</td>\n",
       "      <td>2008.000000</td>\n",
       "      <td>2.000000</td>\n",
       "      <td>5.000000e+05</td>\n",
       "      <td>2009.000000</td>\n",
       "      <td>2009.000000</td>\n",
       "      <td>1.000000</td>\n",
       "      <td>2.000000</td>\n",
       "      <td>37.376781</td>\n",
       "      <td>-49.246564</td>\n",
       "      <td>0</td>\n",
       "      <td>4745.0</td>\n",
       "    </tr>\n",
       "    <tr>\n",
       "      <th>196548</th>\n",
       "      <td>ecommerce</td>\n",
       "      <td>operating</td>\n",
       "      <td>2007.0</td>\n",
       "      <td>USA</td>\n",
       "      <td>2010.357698</td>\n",
       "      <td>2010.745623</td>\n",
       "      <td>1.310153</td>\n",
       "      <td>3.859288e+06</td>\n",
       "      <td>2013.000000</td>\n",
       "      <td>2013.000000</td>\n",
       "      <td>2.000000</td>\n",
       "      <td>5.000000</td>\n",
       "      <td>37.774929</td>\n",
       "      <td>-122.419415</td>\n",
       "      <td>0</td>\n",
       "      <td>5110.0</td>\n",
       "    </tr>\n",
       "    <tr>\n",
       "      <th>196551</th>\n",
       "      <td>search</td>\n",
       "      <td>operating</td>\n",
       "      <td>2008.0</td>\n",
       "      <td>USA</td>\n",
       "      <td>2010.357698</td>\n",
       "      <td>2010.745623</td>\n",
       "      <td>1.310153</td>\n",
       "      <td>3.859288e+06</td>\n",
       "      <td>2008.939794</td>\n",
       "      <td>2009.401837</td>\n",
       "      <td>1.232714</td>\n",
       "      <td>1.000000</td>\n",
       "      <td>34.052234</td>\n",
       "      <td>-118.243685</td>\n",
       "      <td>0</td>\n",
       "      <td>4745.0</td>\n",
       "    </tr>\n",
       "    <tr>\n",
       "      <th>196552</th>\n",
       "      <td>ecommerce</td>\n",
       "      <td>operating</td>\n",
       "      <td>2007.0</td>\n",
       "      <td>USA</td>\n",
       "      <td>2008.000000</td>\n",
       "      <td>2008.000000</td>\n",
       "      <td>1.000000</td>\n",
       "      <td>4.750000e+05</td>\n",
       "      <td>2006.000000</td>\n",
       "      <td>2008.000000</td>\n",
       "      <td>2.000000</td>\n",
       "      <td>1.000000</td>\n",
       "      <td>34.035633</td>\n",
       "      <td>-118.515590</td>\n",
       "      <td>0</td>\n",
       "      <td>5110.0</td>\n",
       "    </tr>\n",
       "  </tbody>\n",
       "</table>\n",
       "<p>99413 rows × 16 columns</p>\n",
       "</div>"
      ],
      "text/plain": [
       "          category_code     status  founded_at country_code  first_funding_at  \\\n",
       "1           games_video   acquired      2011.0          USA       2010.357698   \n",
       "3       network_hosting  operating      2008.0          USA       2010.357698   \n",
       "4           games_video  operating      2008.0          USA       2010.357698   \n",
       "5           advertising  operating      2007.0        other       2010.357698   \n",
       "6                 other  operating      2008.0          IND       2010.357698   \n",
       "...                 ...        ...         ...          ...               ...   \n",
       "196545         software  operating      2004.0          USA       2010.357698   \n",
       "196547      advertising  operating      2008.0          USA       2007.000000   \n",
       "196548        ecommerce  operating      2007.0          USA       2010.357698   \n",
       "196551           search  operating      2008.0          USA       2010.357698   \n",
       "196552        ecommerce  operating      2007.0          USA       2008.000000   \n",
       "\n",
       "        last_funding_at  funding_rounds  funding_total_usd  \\\n",
       "1           2010.745623        1.310153       3.859288e+06   \n",
       "3           2010.745623        1.310153       3.859288e+06   \n",
       "4           2010.745623        1.310153       3.859288e+06   \n",
       "5           2010.745623        1.310153       3.859288e+06   \n",
       "6           2010.745623        1.310153       3.859288e+06   \n",
       "...                 ...             ...                ...   \n",
       "196545      2010.745623        1.310153       3.859288e+06   \n",
       "196547      2008.000000        2.000000       5.000000e+05   \n",
       "196548      2010.745623        1.310153       3.859288e+06   \n",
       "196551      2010.745623        1.310153       3.859288e+06   \n",
       "196552      2008.000000        1.000000       4.750000e+05   \n",
       "\n",
       "        first_milestone_at  last_milestone_at  milestones  relationships  \\\n",
       "1              2008.939794        2009.401837    1.232714       6.000000   \n",
       "3              2008.939794        2009.401837    1.232714       2.431833   \n",
       "4              2008.939794        2009.401837    1.232714       2.431833   \n",
       "5              2008.939794        2009.401837    1.232714       2.000000   \n",
       "6              2008.939794        2009.401837    1.232714       2.431833   \n",
       "...                    ...                ...         ...            ...   \n",
       "196545         2008.939794        2009.401837    1.232714       2.431833   \n",
       "196547         2009.000000        2009.000000    1.000000       2.000000   \n",
       "196548         2013.000000        2013.000000    2.000000       5.000000   \n",
       "196551         2008.939794        2009.401837    1.232714       1.000000   \n",
       "196552         2006.000000        2008.000000    2.000000       1.000000   \n",
       "\n",
       "              lat         lng  isClosed  active_days  \n",
       "1       34.021122 -118.396467         1    -734015.0  \n",
       "3       37.376781  -49.246564         0       4745.0  \n",
       "4       37.376781  -49.246564         0       4745.0  \n",
       "5       30.427755   -9.598107         0       5110.0  \n",
       "6       22.307159   73.181219         0       4745.0  \n",
       "...           ...         ...       ...          ...  \n",
       "196545  40.748350  -74.323219         0       6205.0  \n",
       "196547  37.376781  -49.246564         0       4745.0  \n",
       "196548  37.774929 -122.419415         0       5110.0  \n",
       "196551  34.052234 -118.243685         0       4745.0  \n",
       "196552  34.035633 -118.515590         0       5110.0  \n",
       "\n",
       "[99413 rows x 16 columns]"
      ]
     },
     "execution_count": 85,
     "metadata": {},
     "output_type": "execute_result"
    }
   ],
   "source": [
    "# drop closed_at column\n",
    "company.drop([\"closed_at\"],axis=1)"
   ]
  },
  {
   "cell_type": "code",
   "execution_count": 86,
   "id": "6df5cf31",
   "metadata": {},
   "outputs": [
    {
     "data": {
      "text/plain": [
       "(99413, 17)"
      ]
     },
     "execution_count": 86,
     "metadata": {},
     "output_type": "execute_result"
    }
   ],
   "source": [
    "company.shape"
   ]
  },
  {
   "cell_type": "code",
   "execution_count": 87,
   "id": "46b33165",
   "metadata": {},
   "outputs": [],
   "source": [
    "#performing EDA\n",
    "\n"
   ]
  },
  {
   "cell_type": "code",
   "execution_count": 88,
   "id": "28d5e672",
   "metadata": {},
   "outputs": [
    {
     "data": {
      "text/html": [
       "<div>\n",
       "<style scoped>\n",
       "    .dataframe tbody tr th:only-of-type {\n",
       "        vertical-align: middle;\n",
       "    }\n",
       "\n",
       "    .dataframe tbody tr th {\n",
       "        vertical-align: top;\n",
       "    }\n",
       "\n",
       "    .dataframe thead th {\n",
       "        text-align: right;\n",
       "    }\n",
       "</style>\n",
       "<table border=\"1\" class=\"dataframe\">\n",
       "  <thead>\n",
       "    <tr style=\"text-align: right;\">\n",
       "      <th></th>\n",
       "      <th>founded_at</th>\n",
       "      <th>closed_at</th>\n",
       "      <th>first_funding_at</th>\n",
       "      <th>last_funding_at</th>\n",
       "      <th>funding_rounds</th>\n",
       "      <th>funding_total_usd</th>\n",
       "      <th>first_milestone_at</th>\n",
       "      <th>last_milestone_at</th>\n",
       "      <th>milestones</th>\n",
       "      <th>relationships</th>\n",
       "      <th>lat</th>\n",
       "      <th>lng</th>\n",
       "      <th>isClosed</th>\n",
       "      <th>active_days</th>\n",
       "    </tr>\n",
       "  </thead>\n",
       "  <tbody>\n",
       "    <tr>\n",
       "      <th>count</th>\n",
       "      <td>99413.000000</td>\n",
       "      <td>99413.000000</td>\n",
       "      <td>99413.000000</td>\n",
       "      <td>99413.000000</td>\n",
       "      <td>99413.000000</td>\n",
       "      <td>9.941300e+04</td>\n",
       "      <td>99413.000000</td>\n",
       "      <td>99413.000000</td>\n",
       "      <td>99413.000000</td>\n",
       "      <td>99413.000000</td>\n",
       "      <td>99413.000000</td>\n",
       "      <td>99413.000000</td>\n",
       "      <td>99413.000000</td>\n",
       "      <td>99413.000000</td>\n",
       "    </tr>\n",
       "    <tr>\n",
       "      <th>mean</th>\n",
       "      <td>2007.077897</td>\n",
       "      <td>1848.912195</td>\n",
       "      <td>2010.357698</td>\n",
       "      <td>2010.745623</td>\n",
       "      <td>1.310153</td>\n",
       "      <td>3.859288e+06</td>\n",
       "      <td>2008.939794</td>\n",
       "      <td>2009.401837</td>\n",
       "      <td>1.232714</td>\n",
       "      <td>2.431833</td>\n",
       "      <td>37.376781</td>\n",
       "      <td>-49.246564</td>\n",
       "      <td>0.085150</td>\n",
       "      <td>-57730.481476</td>\n",
       "    </tr>\n",
       "    <tr>\n",
       "      <th>std</th>\n",
       "      <td>8.817797</td>\n",
       "      <td>564.073083</td>\n",
       "      <td>1.326290</td>\n",
       "      <td>1.266878</td>\n",
       "      <td>0.290833</td>\n",
       "      <td>2.518345e+06</td>\n",
       "      <td>3.459376</td>\n",
       "      <td>3.379600</td>\n",
       "      <td>0.364628</td>\n",
       "      <td>1.361317</td>\n",
       "      <td>13.689476</td>\n",
       "      <td>60.566705</td>\n",
       "      <td>0.279106</td>\n",
       "      <td>205753.241087</td>\n",
       "    </tr>\n",
       "    <tr>\n",
       "      <th>min</th>\n",
       "      <td>1901.000000</td>\n",
       "      <td>0.000000</td>\n",
       "      <td>1960.000000</td>\n",
       "      <td>1960.000000</td>\n",
       "      <td>1.000000</td>\n",
       "      <td>2.910000e+02</td>\n",
       "      <td>1960.000000</td>\n",
       "      <td>1960.000000</td>\n",
       "      <td>1.000000</td>\n",
       "      <td>1.000000</td>\n",
       "      <td>-50.942326</td>\n",
       "      <td>-159.497746</td>\n",
       "      <td>0.000000</td>\n",
       "      <td>-734745.000000</td>\n",
       "    </tr>\n",
       "    <tr>\n",
       "      <th>25%</th>\n",
       "      <td>2006.000000</td>\n",
       "      <td>2021.000000</td>\n",
       "      <td>2010.357698</td>\n",
       "      <td>2010.745623</td>\n",
       "      <td>1.310153</td>\n",
       "      <td>3.859288e+06</td>\n",
       "      <td>2008.939794</td>\n",
       "      <td>2009.401837</td>\n",
       "      <td>1.000000</td>\n",
       "      <td>1.000000</td>\n",
       "      <td>37.354108</td>\n",
       "      <td>-87.988954</td>\n",
       "      <td>0.000000</td>\n",
       "      <td>3650.000000</td>\n",
       "    </tr>\n",
       "    <tr>\n",
       "      <th>50%</th>\n",
       "      <td>2010.000000</td>\n",
       "      <td>2021.000000</td>\n",
       "      <td>2010.357698</td>\n",
       "      <td>2010.745623</td>\n",
       "      <td>1.310153</td>\n",
       "      <td>3.859288e+06</td>\n",
       "      <td>2008.939794</td>\n",
       "      <td>2009.401837</td>\n",
       "      <td>1.232714</td>\n",
       "      <td>2.431833</td>\n",
       "      <td>37.376781</td>\n",
       "      <td>-49.246564</td>\n",
       "      <td>0.000000</td>\n",
       "      <td>3650.000000</td>\n",
       "    </tr>\n",
       "    <tr>\n",
       "      <th>75%</th>\n",
       "      <td>2011.000000</td>\n",
       "      <td>2021.000000</td>\n",
       "      <td>2010.357698</td>\n",
       "      <td>2010.745623</td>\n",
       "      <td>1.310153</td>\n",
       "      <td>3.859288e+06</td>\n",
       "      <td>2010.000000</td>\n",
       "      <td>2011.000000</td>\n",
       "      <td>1.232714</td>\n",
       "      <td>2.431833</td>\n",
       "      <td>42.175617</td>\n",
       "      <td>-3.703790</td>\n",
       "      <td>0.000000</td>\n",
       "      <td>5110.000000</td>\n",
       "    </tr>\n",
       "    <tr>\n",
       "      <th>max</th>\n",
       "      <td>2014.000000</td>\n",
       "      <td>2021.000000</td>\n",
       "      <td>2013.000000</td>\n",
       "      <td>2013.000000</td>\n",
       "      <td>3.000000</td>\n",
       "      <td>2.670000e+07</td>\n",
       "      <td>2014.000000</td>\n",
       "      <td>2014.000000</td>\n",
       "      <td>7.000000</td>\n",
       "      <td>8.000000</td>\n",
       "      <td>77.553604</td>\n",
       "      <td>176.212549</td>\n",
       "      <td>1.000000</td>\n",
       "      <td>43800.000000</td>\n",
       "    </tr>\n",
       "  </tbody>\n",
       "</table>\n",
       "</div>"
      ],
      "text/plain": [
       "         founded_at     closed_at  first_funding_at  last_funding_at  \\\n",
       "count  99413.000000  99413.000000      99413.000000     99413.000000   \n",
       "mean    2007.077897   1848.912195       2010.357698      2010.745623   \n",
       "std        8.817797    564.073083          1.326290         1.266878   \n",
       "min     1901.000000      0.000000       1960.000000      1960.000000   \n",
       "25%     2006.000000   2021.000000       2010.357698      2010.745623   \n",
       "50%     2010.000000   2021.000000       2010.357698      2010.745623   \n",
       "75%     2011.000000   2021.000000       2010.357698      2010.745623   \n",
       "max     2014.000000   2021.000000       2013.000000      2013.000000   \n",
       "\n",
       "       funding_rounds  funding_total_usd  first_milestone_at  \\\n",
       "count    99413.000000       9.941300e+04        99413.000000   \n",
       "mean         1.310153       3.859288e+06         2008.939794   \n",
       "std          0.290833       2.518345e+06            3.459376   \n",
       "min          1.000000       2.910000e+02         1960.000000   \n",
       "25%          1.310153       3.859288e+06         2008.939794   \n",
       "50%          1.310153       3.859288e+06         2008.939794   \n",
       "75%          1.310153       3.859288e+06         2010.000000   \n",
       "max          3.000000       2.670000e+07         2014.000000   \n",
       "\n",
       "       last_milestone_at    milestones  relationships           lat  \\\n",
       "count       99413.000000  99413.000000   99413.000000  99413.000000   \n",
       "mean         2009.401837      1.232714       2.431833     37.376781   \n",
       "std             3.379600      0.364628       1.361317     13.689476   \n",
       "min          1960.000000      1.000000       1.000000    -50.942326   \n",
       "25%          2009.401837      1.000000       1.000000     37.354108   \n",
       "50%          2009.401837      1.232714       2.431833     37.376781   \n",
       "75%          2011.000000      1.232714       2.431833     42.175617   \n",
       "max          2014.000000      7.000000       8.000000     77.553604   \n",
       "\n",
       "                lng      isClosed    active_days  \n",
       "count  99413.000000  99413.000000   99413.000000  \n",
       "mean     -49.246564      0.085150  -57730.481476  \n",
       "std       60.566705      0.279106  205753.241087  \n",
       "min     -159.497746      0.000000 -734745.000000  \n",
       "25%      -87.988954      0.000000    3650.000000  \n",
       "50%      -49.246564      0.000000    3650.000000  \n",
       "75%       -3.703790      0.000000    5110.000000  \n",
       "max      176.212549      1.000000   43800.000000  "
      ]
     },
     "execution_count": 88,
     "metadata": {},
     "output_type": "execute_result"
    }
   ],
   "source": [
    "df.describe()"
   ]
  },
  {
   "cell_type": "code",
   "execution_count": 89,
   "id": "c8df0af1",
   "metadata": {},
   "outputs": [
    {
     "data": {
      "image/png": "[encoded data removed]",
      "text/plain": [
       "<Figure size 2000x1500 with 16 Axes>"
      ]
     },
     "metadata": {},
     "output_type": "display_data"
    }
   ],
   "source": [
    "import matplotlib.pyplot as plt\n",
    "df.hist(bins=50, figsize=(20,15))\n",
    "plt.show()"
   ]
  },
  {
   "cell_type": "code",
   "execution_count": 91,
   "id": "0ddb720f",
   "metadata": {},
   "outputs": [
    {
     "name": "stdout",
     "output_type": "stream",
     "text": [
      "0    90948\n",
      "1     8465\n",
      "Name: isClosed, dtype: int64\n"
     ]
    },
    {
     "data": {
      "image/png": "[encoded data removed]",
      "text/plain": [
       "<Figure size 640x480 with 1 Axes>"
      ]
     },
     "metadata": {},
     "output_type": "display_data"
    }
   ],
   "source": [
    "# univariate analysis\n",
    "\n",
    "print(company.isClosed.value_counts())\n",
    "company['isClosed'].value_counts().plot(kind=\"pie\", autopct=\"%.2f\")\n",
    "plt.show()"
   ]
  },
  {
   "cell_type": "code",
   "execution_count": 92,
   "id": "750b3ebf",
   "metadata": {},
   "outputs": [],
   "source": [
    "# 91% are not closed"
   ]
  },
  {
   "cell_type": "code",
   "execution_count": 93,
   "id": "f3aa08ea",
   "metadata": {},
   "outputs": [
    {
     "data": {
      "image/png": "[encoded data removed]",
      "text/plain": [
       "<Figure size 640x480 with 1 Axes>"
      ]
     },
     "metadata": {},
     "output_type": "display_data"
    }
   ],
   "source": [
    "plt.hist(company['founded_at'], bins=15)\n",
    "plt.show()"
   ]
  },
  {
   "cell_type": "code",
   "execution_count": 96,
   "id": "dc85ccec",
   "metadata": {},
   "outputs": [
    {
     "data": {
      "image/png": "[encoded data removed]",
      "text/plain": [
       "<Figure size 640x480 with 1 Axes>"
      ]
     },
     "metadata": {},
     "output_type": "display_data"
    }
   ],
   "source": [
    "sns.barplot(x=company['country_code'], y=company['funding_total_usd'], hue=company['isClosed'])\n",
    "plt.show()"
   ]
  },
  {
   "cell_type": "code",
   "execution_count": 97,
   "id": "94d6c4cd",
   "metadata": {},
   "outputs": [
    {
     "data": {
      "image/png": "[encoded data removed]",
      "text/plain": [
       "<Figure size 640x480 with 1 Axes>"
      ]
     },
     "metadata": {},
     "output_type": "display_data"
    }
   ],
   "source": [
    "sns.distplot(company['active_days']) \n",
    "plt.show()"
   ]
  },
  {
   "cell_type": "code",
   "execution_count": 98,
   "id": "0c2eecdf",
   "metadata": {},
   "outputs": [
    {
     "data": {
      "image/png": "[encoded data removed]",
      "text/plain": [
       "<Figure size 640x480 with 1 Axes>"
      ]
     },
     "metadata": {},
     "output_type": "display_data"
    }
   ],
   "source": [
    "sns.distplot(company['funding_total_usd']) \n",
    "plt.show()"
   ]
  },
  {
   "cell_type": "code",
   "execution_count": 99,
   "id": "6b4c9ede",
   "metadata": {},
   "outputs": [
    {
     "data": {
      "image/png": "[encoded data removed]",
      "text/plain": [
       "<Figure size 800x800 with 1 Axes>"
      ]
     },
     "metadata": {},
     "output_type": "display_data"
    }
   ],
   "source": [
    "fig, ax = plt.subplots(figsize=(8, 8))\n",
    "company['category_code'].value_counts().plot(kind=\"pie\", autopct=\"%.2f\")\n",
    "plt.show()"
   ]
  },
  {
   "cell_type": "code",
   "execution_count": 100,
   "id": "41965f83",
   "metadata": {},
   "outputs": [
    {
     "data": {
      "image/png": "[encoded data removed]",
      "text/plain": [
       "<Figure size 800x800 with 1 Axes>"
      ]
     },
     "metadata": {},
     "output_type": "display_data"
    }
   ],
   "source": [
    "fig, ax = plt.subplots(figsize=(8, 8))\n",
    "company['country_code'].value_counts().plot(kind=\"pie\", autopct=\"%.2f\")\n",
    "plt.show()"
   ]
  },
  {
   "cell_type": "code",
   "execution_count": 101,
   "id": "0808c0e3",
   "metadata": {},
   "outputs": [
    {
     "name": "stdout",
     "output_type": "stream",
     "text": [
      "Requirement already satisfied: plotly in c:\\users\\sumit\\appdata\\local\\programs\\python\\python39\\lib\\site-packages (5.13.1)\n",
      "Requirement already satisfied: tenacity>=6.2.0 in c:\\users\\sumit\\appdata\\local\\programs\\python\\python39\\lib\\site-packages (from plotly) (8.2.1)\n"
     ]
    },
    {
     "name": "stderr",
     "output_type": "stream",
     "text": [
      "WARNING: You are using pip version 21.2.4; however, version 24.0 is available.\n",
      "You should consider upgrading via the 'C:\\Users\\SUMIT\\AppData\\Local\\Programs\\Python\\Python39\\python.exe -m pip install --upgrade pip' command.\n"
     ]
    }
   ],
   "source": [
    "!pip install plotly"
   ]
  },
  {
   "cell_type": "code",
   "execution_count": 103,
   "id": "38c83594",
   "metadata": {},
   "outputs": [
    {
     "ename": "ValueError",
     "evalue": "All arguments should have the same length. The length of argument `size` is 10, whereas the length of  previously-processed arguments ['country_code', 'index'] is 99413",
     "output_type": "error",
     "traceback": [
      "\u001b[1;31m---------------------------------------------------------------------------\u001b[0m",
      "\u001b[1;31mValueError\u001b[0m                                Traceback (most recent call last)",
      "Cell \u001b[1;32mIn[103], line 1\u001b[0m\n\u001b[1;32m----> 1\u001b[0m fig \u001b[38;5;241m=\u001b[39m \u001b[43mpx\u001b[49m\u001b[38;5;241;43m.\u001b[39;49m\u001b[43mscatter\u001b[49m\u001b[43m(\u001b[49m\u001b[43mcompany\u001b[49m\u001b[43m,\u001b[49m\u001b[43m \u001b[49m\u001b[43mx\u001b[49m\u001b[38;5;241;43m=\u001b[39;49m\u001b[38;5;124;43m'\u001b[39;49m\u001b[38;5;124;43mcountry_code\u001b[39;49m\u001b[38;5;124;43m'\u001b[39;49m\u001b[43m,\u001b[49m\u001b[43m \u001b[49m\u001b[43msize\u001b[49m\u001b[38;5;241;43m=\u001b[39;49m\u001b[43mcompany\u001b[49m\u001b[43m[\u001b[49m\u001b[38;5;124;43m'\u001b[39;49m\u001b[38;5;124;43mcountry_code\u001b[39;49m\u001b[38;5;124;43m'\u001b[39;49m\u001b[43m]\u001b[49m\u001b[38;5;241;43m.\u001b[39;49m\u001b[43mvalue_counts\u001b[49m\u001b[43m(\u001b[49m\u001b[43m)\u001b[49m\u001b[43m,\u001b[49m\u001b[43m \u001b[49m\n\u001b[0;32m      2\u001b[0m \u001b[43m                 \u001b[49m\u001b[43msize_max\u001b[49m\u001b[38;5;241;43m=\u001b[39;49m\u001b[38;5;241;43m50\u001b[39;49m\u001b[43m,\u001b[49m\u001b[43m \u001b[49m\u001b[43mtitle\u001b[49m\u001b[38;5;241;43m=\u001b[39;49m\u001b[38;5;124;43m'\u001b[39;49m\u001b[38;5;124;43mPacked Bubble Chart - Country Code Distribution\u001b[39;49m\u001b[38;5;124;43m'\u001b[39;49m\u001b[43m)\u001b[49m\n\u001b[0;32m      4\u001b[0m fig\u001b[38;5;241m.\u001b[39mupdate_layout(showlegend\u001b[38;5;241m=\u001b[39m\u001b[38;5;28;01mFalse\u001b[39;00m)  \u001b[38;5;66;03m# Hide the legend for simplicity\u001b[39;00m\n\u001b[0;32m      6\u001b[0m fig\u001b[38;5;241m.\u001b[39mshow()\n",
      "File \u001b[1;32m~\\AppData\\Local\\Programs\\Python\\Python39\\lib\\site-packages\\plotly\\express\\_chart_types.py:66\u001b[0m, in \u001b[0;36mscatter\u001b[1;34m(data_frame, x, y, color, symbol, size, hover_name, hover_data, custom_data, text, facet_row, facet_col, facet_col_wrap, facet_row_spacing, facet_col_spacing, error_x, error_x_minus, error_y, error_y_minus, animation_frame, animation_group, category_orders, labels, orientation, color_discrete_sequence, color_discrete_map, color_continuous_scale, range_color, color_continuous_midpoint, symbol_sequence, symbol_map, opacity, size_max, marginal_x, marginal_y, trendline, trendline_options, trendline_color_override, trendline_scope, log_x, log_y, range_x, range_y, render_mode, title, template, width, height)\u001b[0m\n\u001b[0;32m     12\u001b[0m \u001b[38;5;28;01mdef\u001b[39;00m \u001b[38;5;21mscatter\u001b[39m(\n\u001b[0;32m     13\u001b[0m     data_frame\u001b[38;5;241m=\u001b[39m\u001b[38;5;28;01mNone\u001b[39;00m,\n\u001b[0;32m     14\u001b[0m     x\u001b[38;5;241m=\u001b[39m\u001b[38;5;28;01mNone\u001b[39;00m,\n\u001b[1;32m   (...)\u001b[0m\n\u001b[0;32m     60\u001b[0m     height\u001b[38;5;241m=\u001b[39m\u001b[38;5;28;01mNone\u001b[39;00m,\n\u001b[0;32m     61\u001b[0m ) \u001b[38;5;241m-\u001b[39m\u001b[38;5;241m>\u001b[39m go\u001b[38;5;241m.\u001b[39mFigure:\n\u001b[0;32m     62\u001b[0m \u001b[38;5;250m    \u001b[39m\u001b[38;5;124;03m\"\"\"\u001b[39;00m\n\u001b[0;32m     63\u001b[0m \u001b[38;5;124;03m    In a scatter plot, each row of `data_frame` is represented by a symbol\u001b[39;00m\n\u001b[0;32m     64\u001b[0m \u001b[38;5;124;03m    mark in 2D space.\u001b[39;00m\n\u001b[0;32m     65\u001b[0m \u001b[38;5;124;03m    \"\"\"\u001b[39;00m\n\u001b[1;32m---> 66\u001b[0m     \u001b[38;5;28;01mreturn\u001b[39;00m \u001b[43mmake_figure\u001b[49m\u001b[43m(\u001b[49m\u001b[43margs\u001b[49m\u001b[38;5;241;43m=\u001b[39;49m\u001b[38;5;28;43mlocals\u001b[39;49m\u001b[43m(\u001b[49m\u001b[43m)\u001b[49m\u001b[43m,\u001b[49m\u001b[43m \u001b[49m\u001b[43mconstructor\u001b[49m\u001b[38;5;241;43m=\u001b[39;49m\u001b[43mgo\u001b[49m\u001b[38;5;241;43m.\u001b[39;49m\u001b[43mScatter\u001b[49m\u001b[43m)\u001b[49m\n",
      "File \u001b[1;32m~\\AppData\\Local\\Programs\\Python\\Python39\\lib\\site-packages\\plotly\\express\\_core.py:1991\u001b[0m, in \u001b[0;36mmake_figure\u001b[1;34m(args, constructor, trace_patch, layout_patch)\u001b[0m\n\u001b[0;32m   1988\u001b[0m layout_patch \u001b[38;5;241m=\u001b[39m layout_patch \u001b[38;5;129;01mor\u001b[39;00m {}\n\u001b[0;32m   1989\u001b[0m apply_default_cascade(args)\n\u001b[1;32m-> 1991\u001b[0m args \u001b[38;5;241m=\u001b[39m \u001b[43mbuild_dataframe\u001b[49m\u001b[43m(\u001b[49m\u001b[43margs\u001b[49m\u001b[43m,\u001b[49m\u001b[43m \u001b[49m\u001b[43mconstructor\u001b[49m\u001b[43m)\u001b[49m\n\u001b[0;32m   1992\u001b[0m \u001b[38;5;28;01mif\u001b[39;00m constructor \u001b[38;5;129;01min\u001b[39;00m [go\u001b[38;5;241m.\u001b[39mTreemap, go\u001b[38;5;241m.\u001b[39mSunburst, go\u001b[38;5;241m.\u001b[39mIcicle] \u001b[38;5;129;01mand\u001b[39;00m args[\u001b[38;5;124m\"\u001b[39m\u001b[38;5;124mpath\u001b[39m\u001b[38;5;124m\"\u001b[39m] \u001b[38;5;129;01mis\u001b[39;00m \u001b[38;5;129;01mnot\u001b[39;00m \u001b[38;5;28;01mNone\u001b[39;00m:\n\u001b[0;32m   1993\u001b[0m     args \u001b[38;5;241m=\u001b[39m process_dataframe_hierarchy(args)\n",
      "File \u001b[1;32m~\\AppData\\Local\\Programs\\Python\\Python39\\lib\\site-packages\\plotly\\express\\_core.py:1406\u001b[0m, in \u001b[0;36mbuild_dataframe\u001b[1;34m(args, constructor)\u001b[0m\n\u001b[0;32m   1403\u001b[0m     args[\u001b[38;5;124m\"\u001b[39m\u001b[38;5;124mcolor\u001b[39m\u001b[38;5;124m\"\u001b[39m] \u001b[38;5;241m=\u001b[39m \u001b[38;5;28;01mNone\u001b[39;00m\n\u001b[0;32m   1404\u001b[0m \u001b[38;5;66;03m# now that things have been prepped, we do the systematic rewriting of `args`\u001b[39;00m\n\u001b[1;32m-> 1406\u001b[0m df_output, wide_id_vars \u001b[38;5;241m=\u001b[39m \u001b[43mprocess_args_into_dataframe\u001b[49m\u001b[43m(\u001b[49m\n\u001b[0;32m   1407\u001b[0m \u001b[43m    \u001b[49m\u001b[43margs\u001b[49m\u001b[43m,\u001b[49m\u001b[43m \u001b[49m\u001b[43mwide_mode\u001b[49m\u001b[43m,\u001b[49m\u001b[43m \u001b[49m\u001b[43mvar_name\u001b[49m\u001b[43m,\u001b[49m\u001b[43m \u001b[49m\u001b[43mvalue_name\u001b[49m\n\u001b[0;32m   1408\u001b[0m \u001b[43m\u001b[49m\u001b[43m)\u001b[49m\n\u001b[0;32m   1410\u001b[0m \u001b[38;5;66;03m# now that `df_output` exists and `args` contains only references, we complete\u001b[39;00m\n\u001b[0;32m   1411\u001b[0m \u001b[38;5;66;03m# the special-case and wide-mode handling by further rewriting args and/or mutating\u001b[39;00m\n\u001b[0;32m   1412\u001b[0m \u001b[38;5;66;03m# df_output\u001b[39;00m\n\u001b[0;32m   1414\u001b[0m count_name \u001b[38;5;241m=\u001b[39m _escape_col_name(df_output, \u001b[38;5;124m\"\u001b[39m\u001b[38;5;124mcount\u001b[39m\u001b[38;5;124m\"\u001b[39m, [var_name, value_name])\n",
      "File \u001b[1;32m~\\AppData\\Local\\Programs\\Python\\Python39\\lib\\site-packages\\plotly\\express\\_core.py:1246\u001b[0m, in \u001b[0;36mprocess_args_into_dataframe\u001b[1;34m(args, wide_mode, var_name, value_name)\u001b[0m\n\u001b[0;32m   1243\u001b[0m         col_name \u001b[38;5;241m=\u001b[39m _check_name_not_reserved(field, reserved_names)\n\u001b[0;32m   1245\u001b[0m     \u001b[38;5;28;01mif\u001b[39;00m length \u001b[38;5;129;01mand\u001b[39;00m \u001b[38;5;28mlen\u001b[39m(argument) \u001b[38;5;241m!=\u001b[39m length:\n\u001b[1;32m-> 1246\u001b[0m         \u001b[38;5;28;01mraise\u001b[39;00m \u001b[38;5;167;01mValueError\u001b[39;00m(\n\u001b[0;32m   1247\u001b[0m             \u001b[38;5;124m\"\u001b[39m\u001b[38;5;124mAll arguments should have the same length. \u001b[39m\u001b[38;5;124m\"\u001b[39m\n\u001b[0;32m   1248\u001b[0m             \u001b[38;5;124m\"\u001b[39m\u001b[38;5;124mThe length of argument `\u001b[39m\u001b[38;5;132;01m%s\u001b[39;00m\u001b[38;5;124m` is \u001b[39m\u001b[38;5;132;01m%d\u001b[39;00m\u001b[38;5;124m, whereas the \u001b[39m\u001b[38;5;124m\"\u001b[39m\n\u001b[0;32m   1249\u001b[0m             \u001b[38;5;124m\"\u001b[39m\u001b[38;5;124mlength of  previously-processed arguments \u001b[39m\u001b[38;5;132;01m%s\u001b[39;00m\u001b[38;5;124m is \u001b[39m\u001b[38;5;132;01m%d\u001b[39;00m\u001b[38;5;124m\"\u001b[39m\n\u001b[0;32m   1250\u001b[0m             \u001b[38;5;241m%\u001b[39m (field, \u001b[38;5;28mlen\u001b[39m(argument), \u001b[38;5;28mstr\u001b[39m(\u001b[38;5;28mlist\u001b[39m(df_output\u001b[38;5;241m.\u001b[39mcolumns)), length)\n\u001b[0;32m   1251\u001b[0m         )\n\u001b[0;32m   1252\u001b[0m     df_output[\u001b[38;5;28mstr\u001b[39m(col_name)] \u001b[38;5;241m=\u001b[39m to_unindexed_series(argument)\n\u001b[0;32m   1254\u001b[0m \u001b[38;5;66;03m# Finally, update argument with column name now that column exists\u001b[39;00m\n",
      "\u001b[1;31mValueError\u001b[0m: All arguments should have the same length. The length of argument `size` is 10, whereas the length of  previously-processed arguments ['country_code', 'index'] is 99413"
     ]
    }
   ],
   "source": [
    "fig = px.scatter(company, x='country_code', size=company['country_code'].value_counts(), \n",
    "                 size_max=50, title='Packed Bubble Chart - Country Code Distribution')\n",
    "\n",
    "fig.update_layout(showlegend=False)  # Hide the legend for simplicity\n",
    "\n",
    "fig.show()"
   ]
  },
  {
   "cell_type": "code",
   "execution_count": null,
   "id": "014d944e",
   "metadata": {},
   "outputs": [],
   "source": []
  }
 ],
 "metadata": {
  "kernelspec": {
   "display_name": "Python 3 (ipykernel)",
   "language": "python",
   "name": "python3"
  },
  "language_info": {
   "codemirror_mode": {
    "name": "ipython",
    "version": 3
   },
   "file_extension": ".py",
   "mimetype": "text/x-python",
   "name": "python",
   "nbconvert_exporter": "python",
   "pygments_lexer": "ipython3",
   "version": "3.9.10"
  }
 },
 "nbformat": 4,
 "nbformat_minor": 5
}
